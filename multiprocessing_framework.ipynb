{
 "cells": [
  {
   "cell_type": "code",
   "execution_count": 32,
   "metadata": {},
   "outputs": [],
   "source": [
    "import multiprocessing as mp\n",
    "import time\n",
    "import os\n",
    "import inspect\n",
    "import threading\n",
    "from IPython.display import clear_output, display, update_display\n",
    "import random\n",
    "import datetime\n",
    "from rich.console import Console\n",
    "from rich.table import Table\n",
    "from rich import print as rprint\n",
    "from enum import Enum\n",
    "from typing import Optional, Any, Callable, Union\n",
    "import psutil\n",
    "\n",
    "\n",
    "class Task:\n",
    "    def __init__(self, id, function, args=(), kwargs={}):\n",
    "        self.id = id\n",
    "        self.function = function\n",
    "        self.args = args\n",
    "        self.kwargs = kwargs\n",
    "        self.result = None\n",
    "\n",
    "\n",
    "class TaskStatus(Enum):\n",
    "    STARTED = 0\n",
    "    COMPLETED = 1\n",
    "    PROCESSING = 2\n",
    "    WAITING = 3\n",
    "    FAILED = 4\n",
    "\n",
    "\n",
    "class StatusReport:\n",
    "    def __init__(\n",
    "        self,\n",
    "        pid: int,\n",
    "        status: TaskStatus,\n",
    "        task_id: Optional[str] = None,\n",
    "        message: Optional[str] = None,\n",
    "        exception: Optional[Exception] = None,\n",
    "    ) -> None:\n",
    "        self.pid = pid\n",
    "        self.status = status\n",
    "        self.task_id = task_id\n",
    "        self.message = message\n",
    "\n",
    "        self.exception = exception\n",
    "        self.timestamp = time.time()\n",
    "\n",
    "    def __str__(self) -> str:\n",
    "        return f\"StatusReport(pid={self.pid}, status={self.status}, task_id={self.task_id}, exception={self.exception})\"\n",
    "\n",
    "\n",
    "class StatusUpdater:\n",
    "    def __init__(self, queue: mp.Queue, pid: int, task_id: str):\n",
    "        self.__queue = queue\n",
    "        self.__pid = pid\n",
    "        self.__task_id = task_id\n",
    "\n",
    "    def report(self, message: str):\n",
    "        self.__queue.put(\n",
    "            StatusReport(\n",
    "                pid=self.__pid,\n",
    "                status=TaskStatus.PROCESSING,\n",
    "                task_id=self.__task_id,\n",
    "                message=message,\n",
    "            )\n",
    "        )\n",
    "\n",
    "\n",
    "def report(message: str) -> None:\n",
    "    \"\"\"Global function to report status from within any task\"\"\"\n",
    "    if report.last_update_time is None or time.time() - report.last_update_time > 0.2:\n",
    "        report.last_update_time = time.time()\n",
    "        if _current_status_updater is not None:\n",
    "            _current_status_updater.report(message)\n",
    "\n",
    "\n",
    "report.last_update_time = None\n",
    "\n",
    "\n",
    "class Worker:\n",
    "    def __init__(self, task_queue, result_queue, status_queue):\n",
    "        import inspect\n",
    "\n",
    "        self.__task_queue = task_queue\n",
    "        self.__result_queue = result_queue\n",
    "        self.__status_queue = status_queue\n",
    "        self.__process_id = os.getpid()\n",
    "        self.__task_count = 0\n",
    "\n",
    "        # report to status queue saying initialization is successful\n",
    "        # self.__status_queue.put(\n",
    "        #     StatusReport(\n",
    "        #         pid=self.__process_id,\n",
    "        #         status=TaskStatus.STARTED,\n",
    "        #         task_id=None,\n",
    "        #         message=\"Worker initialized\",\n",
    "        #     )\n",
    "        # )\n",
    "\n",
    "        self.run()\n",
    "\n",
    "    def run(self):\n",
    "        try:\n",
    "            while True:\n",
    "                self.__status_queue.put(\n",
    "                    StatusReport(\n",
    "                        pid=self.__process_id,\n",
    "                        status=TaskStatus.WAITING,\n",
    "                        message=\"Waiting for new task\",\n",
    "                    )\n",
    "                )\n",
    "\n",
    "                task = self.__task_queue.get()\n",
    "                if task is None:\n",
    "                    break\n",
    "\n",
    "                # Report task started\n",
    "                self.__status_queue.put(\n",
    "                    StatusReport(\n",
    "                        pid=self.__process_id,\n",
    "                        status=TaskStatus.STARTED,\n",
    "                        task_id=task.id,\n",
    "                    )\n",
    "                )\n",
    "\n",
    "                # setup status updater\n",
    "                global _current_status_updater\n",
    "                _current_status_updater = StatusUpdater(\n",
    "                    self.__status_queue, self.__process_id, task.id\n",
    "                )\n",
    "\n",
    "                try:\n",
    "                    sig = inspect.signature(task.function)\n",
    "\n",
    "                    # if \"status_updater\" in sig.parameters:\n",
    "                    #     result = task.function(\n",
    "                    #         *task.args,\n",
    "                    #         **task.kwargs,\n",
    "                    #         status_updater=StatusUpdater(\n",
    "                    #             self.__status_queue, self.__process_id, task.id\n",
    "                    #         ),\n",
    "                    #     )\n",
    "                    # else:\n",
    "                    #     result = task.function(*task.args, **task.kwargs)\n",
    "                    result = task.function(*task.args, **task.kwargs)\n",
    "\n",
    "                    # Report task completed\n",
    "                    self.__status_queue.put(\n",
    "                        StatusReport(\n",
    "                            pid=self.__process_id,\n",
    "                            status=TaskStatus.COMPLETED,\n",
    "                            task_id=task.id,\n",
    "                        )\n",
    "                    )\n",
    "                    self.__result_queue.put({task.id: result})\n",
    "                except Exception as e:\n",
    "                    # Report task failed\n",
    "                    self.__status_queue.put(\n",
    "                        StatusReport(\n",
    "                            pid=self.__process_id,\n",
    "                            status=TaskStatus.FAILED,\n",
    "                            task_id=task.id,\n",
    "                            exception=str(e),\n",
    "                        )\n",
    "                    )\n",
    "                finally:\n",
    "                    # cleanup status updater\n",
    "                    _current_status_updater = None\n",
    "\n",
    "                time.sleep(0.1)\n",
    "        except Exception as e:\n",
    "            self.__status_queue.put(\n",
    "                StatusReport(\n",
    "                    pid=self.__process_id, status=TaskStatus.FAILED, exception=str(e)\n",
    "                )\n",
    "            )\n",
    "\n",
    "\n",
    "class BackendMultiprocessing:\n",
    "    def __init__(self, n_workers=0):\n",
    "        self.__mp_context = mp.get_context(\"fork\")\n",
    "        self.initialize_queues()\n",
    "        self.__workers = []\n",
    "        self.__task_added = 0\n",
    "        self.__task_processing = 0\n",
    "        self.__task_finished = 0\n",
    "        self.__task_failed = 0\n",
    "        self.__workers_status = {}\n",
    "        self.__stop_monitor = False\n",
    "        self.__time_start = time.time()\n",
    "        self.__task_start_time = {}\n",
    "        self.__task_time_taken = {}\n",
    "        self.__active_task_id = set()\n",
    "\n",
    "        self.__task_time_taken_total = 0\n",
    "\n",
    "        # Add status monitoring thread\n",
    "        self.__monitor_thread = threading.Thread(\n",
    "            target=self.__update_workers_status, daemon=True\n",
    "        )\n",
    "        self.__monitor_thread.start()\n",
    "\n",
    "        # Add status printing thread\n",
    "        self.__status_printer_thread = None\n",
    "\n",
    "        if n_workers > 0:\n",
    "            for _ in range(n_workers):\n",
    "                self.add_worker()\n",
    "\n",
    "        # print(\"debug: workers\", self.__workers)\n",
    "\n",
    "    def print_workers(self):\n",
    "        print(\"debug: workers\", self.__workers)\n",
    "\n",
    "    def get_status_queue(self):\n",
    "        return self.__status_queue\n",
    "\n",
    "    def __update_workers_status(self):\n",
    "        \"\"\"Background thread that monitors and prints worker status updates\"\"\"\n",
    "        while True:\n",
    "            try:\n",
    "                # Non-blocking check for status updates\n",
    "                while not self.__status_queue.empty():\n",
    "                    status = self.__status_queue.get_nowait()\n",
    "                    self.__workers_status[status.pid] = status\n",
    "                    if status.status == TaskStatus.COMPLETED:\n",
    "                        self.__task_finished += 1\n",
    "                        self.__task_processing -= 1\n",
    "                        self.__task_time_taken[status.task_id] = (\n",
    "                            status.timestamp - self.__task_start_time[status.task_id]\n",
    "                        )\n",
    "                        self.__task_time_taken_total += self.__task_time_taken[\n",
    "                            status.task_id\n",
    "                        ]\n",
    "                        self.__active_task_id.remove(status.task_id)\n",
    "                    if status.status == TaskStatus.STARTED:\n",
    "                        self.__task_processing += 1\n",
    "                        self.__task_start_time[status.task_id] = status.timestamp\n",
    "                        self.__active_task_id.add(status.task_id)\n",
    "                    if status.status == TaskStatus.FAILED:\n",
    "                        self.__task_failed += 1\n",
    "                    # print(f\"Status Update: {status}\")\n",
    "            except Exception as e:\n",
    "                print(f\"Status monitoring error: {e}\")\n",
    "            time.sleep(0.1)  # Prevent busy waiting\n",
    "\n",
    "    def stop_status_print(self):\n",
    "        self.__stop_monitor = True\n",
    "        self.__status_printer_thread.join()\n",
    "\n",
    "    def print_status_backend(self, constantly_update=False, jupyter_mode=True):\n",
    "        def create_table():\n",
    "            table = Table(title=\"Workers Status\")\n",
    "            table.add_column(\"PID\", justify=\"right\", style=\"cyan\")\n",
    "            table.add_column(\"Status\", style=\"magenta\")\n",
    "            table.add_column(\"Task ID\", style=\"green\")\n",
    "            table.add_column(\"Message/Exception\", style=\"yellow\")\n",
    "\n",
    "            for pid, status in self.__workers_status.items():\n",
    "                table.add_row(\n",
    "                    str(pid),\n",
    "                    str(status.status.name),\n",
    "                    str(status.task_id) if hasattr(status, \"task_id\") else \"\",\n",
    "                    (\n",
    "                        status.message\n",
    "                        if hasattr(status, \"message\")\n",
    "                        else status.exception if hasattr(status, \"exception\") else \"\"\n",
    "                    ),\n",
    "                )\n",
    "            return table\n",
    "\n",
    "        def print_status_loop(jupyter_mode, display_id=None):\n",
    "            count = 3\n",
    "            while not self.__stop_monitor:\n",
    "\n",
    "                if jupyter_mode:\n",
    "                    # update_display(create_table(), display_id=output.display_id)\n",
    "                    # time.sleep(1)\n",
    "                    display_id.update(f\"12345 {count} {display_id} {random.random()}\")\n",
    "                    count += 1\n",
    "                else:\n",
    "                    console = Console()\n",
    "                    console.clear()\n",
    "                    console.print(create_table())\n",
    "                time.sleep(0.1)\n",
    "\n",
    "        if constantly_update:\n",
    "            if self.__status_printer_thread is not None:\n",
    "                # Stop existing printer thread if any\n",
    "                self.__stop_monitor = True\n",
    "                self.__status_printer_thread.join()\n",
    "                self.__stop_monitor = False\n",
    "\n",
    "            display_handler = (\n",
    "                display(\"initial\", display_id=True) if jupyter_mode else None\n",
    "            )\n",
    "            display_handler.update(f\"1231231 {display_handler}\")\n",
    "\n",
    "            self.__status_printer_thread = threading.Thread(\n",
    "                target=print_status_loop,\n",
    "                args=(jupyter_mode, display_handler),\n",
    "                daemon=True,\n",
    "            )\n",
    "            self.__status_printer_thread.start()\n",
    "        else:\n",
    "            # Print once without thread\n",
    "            if jupyter_mode:\n",
    "                display(create_table())\n",
    "            else:\n",
    "                console = Console()\n",
    "                console.print(create_table())\n",
    "            self.__stop_monitor = True\n",
    "\n",
    "    def print_status(self, jupyter_mode=True, constantly_update=True):\n",
    "        \"\"\"Print status table in the frontend using rich and display updates\"\"\"\n",
    "\n",
    "        def create_worker_table():\n",
    "            table = Table(title=\"Workers Status\")\n",
    "            table.add_column(\"ID\", style=\"green\")\n",
    "            # table.add_column(\"PID\", justify=\"right\", style=\"cyan\")\n",
    "            table.add_column(\"Status\", style=\"magenta\", min_width=10)\n",
    "            table.add_column(\"Task ID\", style=\"green\")\n",
    "            table.add_column(\"Message/Exception\", style=\"yellow\", min_width=20)\n",
    "\n",
    "            worker_id = 0\n",
    "            for pid, status in self.__workers_status.items():\n",
    "                table.add_row(\n",
    "                    str(worker_id),\n",
    "                    # str(pid),\n",
    "                    str(status.status.name),\n",
    "                    str(status.task_id) if hasattr(status, \"task_id\") else \"\",\n",
    "                    (\n",
    "                        status.message\n",
    "                        if hasattr(status, \"message\")\n",
    "                        else status.exception if hasattr(status, \"exception\") else \"\"\n",
    "                    ),\n",
    "                )\n",
    "                worker_id += 1\n",
    "            return table\n",
    "\n",
    "        def create_manager_table():\n",
    "            table = Table(title=\"Task Pipeline Status\")\n",
    "            table.add_column(\"Total Tasks\", justify=\"right\", style=\"cyan\")\n",
    "            table.add_column(\"Pending\", justify=\"right\", style=\"magenta\")\n",
    "            table.add_column(\"In Progress\", justify=\"right\", style=\"yellow\")\n",
    "            table.add_column(\"Completed\", justify=\"right\", style=\"green\")\n",
    "            table.add_column(\"Results Ready\", justify=\"right\", style=\"blue\")\n",
    "            table.add_column(\"Failed\", justify=\"right\", style=\"red\")\n",
    "            # table.add_column(\"Avg Time\", justify=\"right\", style=\"green\")\n",
    "\n",
    "            tasks_added = self.__task_added\n",
    "            tasks_in_queue = self.__task_queue.qsize()\n",
    "            tasks_processing = self.__task_processing\n",
    "            tasks_finished = self.__task_finished\n",
    "            results_in_queue = self.__result_queue.qsize()\n",
    "            tasks_failed = self.__task_failed\n",
    "            # average_time_taken = (\n",
    "            #     self.__task_time_taken_total / tasks_finished\n",
    "            #     if tasks_finished > 0\n",
    "            #     else 0\n",
    "            # )\n",
    "\n",
    "            table.add_row(\n",
    "                str(tasks_added),\n",
    "                str(tasks_in_queue),\n",
    "                str(tasks_processing),\n",
    "                str(tasks_finished),\n",
    "                str(results_in_queue),\n",
    "                str(tasks_failed),\n",
    "                # (\n",
    "                #     f\"{int(average_time_taken//3600)}h {int((average_time_taken%3600)//60)}m {average_time_taken%60:.2f}s\".replace(\n",
    "                #         \"0h \", \"\"\n",
    "                #     ).replace(\n",
    "                #         \"0m \", \"\"\n",
    "                #     )\n",
    "                #     if average_time_taken > 0\n",
    "                #     else \"-\"\n",
    "                # ),\n",
    "            )\n",
    "            return table\n",
    "\n",
    "        def create_time_table():\n",
    "            timing_table = Table(title=\"Task Timing Statistics\")\n",
    "            timing_table.add_column(\"Avg Task Time\", style=\"green\")\n",
    "            timing_table.add_column(\"Total Task Time\", style=\"green\")\n",
    "            timing_table.add_column(\"CPU Utilization\", style=\"yellow\")\n",
    "\n",
    "            average_time_taken = (\n",
    "                self.__task_time_taken_total / self.__task_finished\n",
    "                if self.__task_finished > 0\n",
    "                else 0\n",
    "            )\n",
    "            current_time = time.time()\n",
    "            total_cpu_time_on_tasks = self.__task_time_taken_total + sum(\n",
    "                [\n",
    "                    current_time - self.__task_start_time[task_id]\n",
    "                    for task_id in self.__active_task_id\n",
    "                ]\n",
    "            )\n",
    "            # Update CPU usage once per second\n",
    "            if (\n",
    "                not hasattr(self, \"_last_cpu_update\")\n",
    "                or current_time - self._last_cpu_update >= 1\n",
    "            ):\n",
    "                self._cpu_usage = psutil.cpu_percent(interval=0)\n",
    "                self._last_cpu_update = time.time()\n",
    "            cpu_usage = self._cpu_usage\n",
    "\n",
    "            timing_table.add_row(\n",
    "                (\n",
    "                    f\"{int(average_time_taken//3600)}h {int((average_time_taken%3600)//60)}m {average_time_taken%60:.2f}s\".replace(\n",
    "                        \"0h \", \"\"\n",
    "                    ).replace(\n",
    "                        \"0m \", \"\"\n",
    "                    )\n",
    "                    if average_time_taken > 0\n",
    "                    else \"-\"\n",
    "                ),\n",
    "                (\n",
    "                    f\"{int(total_cpu_time_on_tasks//3600)}h {int((total_cpu_time_on_tasks%3600)//60)}m {total_cpu_time_on_tasks%60:.0f}s\".replace(\n",
    "                        \"0h \", \"\"\n",
    "                    ).replace(\n",
    "                        \"0m \", \"\"\n",
    "                    )\n",
    "                    if total_cpu_time_on_tasks > 0\n",
    "                    else \"-\"\n",
    "                ),\n",
    "                f\"{cpu_usage:.2f}%\",\n",
    "            )\n",
    "\n",
    "            return timing_table\n",
    "\n",
    "        if constantly_update:\n",
    "            manager_output = display(\"initial\", display_id=True)\n",
    "            time_output = display(\"initial\", display_id=True)\n",
    "            worker_output = display(\"initial\", display_id=True)\n",
    "            try:\n",
    "                while True:\n",
    "                    if jupyter_mode:\n",
    "                        update_display(\n",
    "                            create_manager_table(), display_id=manager_output.display_id\n",
    "                        )\n",
    "                        update_display(\n",
    "                            create_time_table(), display_id=time_output.display_id\n",
    "                        )\n",
    "                        update_display(\n",
    "                            create_worker_table(), display_id=worker_output.display_id\n",
    "                        )\n",
    "\n",
    "                    else:\n",
    "                        console = Console()\n",
    "                        console.clear()\n",
    "                        console.print(create_worker_table())\n",
    "                    time.sleep(0.1)\n",
    "            except KeyboardInterrupt:\n",
    "                rprint(\n",
    "                    \"KeyboardInterrupted, monitor has stopped and tasks will keep running\"\n",
    "                )\n",
    "\n",
    "        else:\n",
    "            # Print once\n",
    "            if jupyter_mode:\n",
    "                display(create_table())\n",
    "            else:\n",
    "                console = Console()\n",
    "                console.print(create_table())\n",
    "\n",
    "    def initialize_queues(self):\n",
    "        self.__task_queue = self.__mp_context.Queue()\n",
    "        self.__result_queue = self.__mp_context.Queue()\n",
    "        self.__status_queue = self.__mp_context.Queue()\n",
    "\n",
    "    def add_worker(self):\n",
    "        process = self.__mp_context.Process(\n",
    "            target=Worker,\n",
    "            kwargs={\n",
    "                \"task_queue\": self.__task_queue,\n",
    "                \"result_queue\": self.__result_queue,\n",
    "                \"status_queue\": self.__status_queue,\n",
    "            },\n",
    "            daemon=True,\n",
    "        )\n",
    "        process.start()\n",
    "        self.__workers.append(process)\n",
    "\n",
    "    def add_task(\n",
    "        self,\n",
    "        task_function: Callable,\n",
    "        task_id: Optional[str] = None,\n",
    "        args: Optional[Union[list, tuple]] = (),\n",
    "        kwargs: Optional[dict] = {},\n",
    "    ):\n",
    "        task_id = task_id or f\"task_{self.__task_count}\"\n",
    "        task = Task(id=task_id, function=task_function, args=args, kwargs=kwargs)\n",
    "        self.__task_queue.put(task)\n",
    "        self.__task_added += 1\n",
    "\n",
    "    def get_one_result(self):\n",
    "        return self.__result_queue.get()\n",
    "\n",
    "    def get_all_results(self, dict_format=True):\n",
    "        results = []\n",
    "        if dict_format:\n",
    "            results = {}\n",
    "        while not self.__result_queue.empty():\n",
    "            result = self.__result_queue.get()\n",
    "            if dict_format:\n",
    "                results.update(result)\n",
    "            else:\n",
    "                results.append(result)\n",
    "        return results\n",
    "\n",
    "    def force_close_all_workers(self):\n",
    "        # attention: this function will force close all workers, and the queues will be corrupted\n",
    "        for worker in self.__workers:\n",
    "            worker.terminate()\n",
    "        self.initialize_queues()\n",
    "\n",
    "    def status_report(self, message: str):\n",
    "        self.__status_queue.put(\n",
    "            StatusReport(pid=os.getpid(), status=TaskStatus.PROCESSING, message=message)\n",
    "        )\n",
    "\n",
    "    def close_all_workers(self):\n",
    "        # Empty the task queue first\n",
    "        while not self.__task_queue.empty():\n",
    "            try:\n",
    "                self.__task_queue.get_nowait()\n",
    "            except:\n",
    "                break\n",
    "\n",
    "        # Send poison pills to all workers to gracefully shut them down\n",
    "        for _ in self.__workers:\n",
    "            self.__task_queue.put(None)\n",
    "\n",
    "        # Wait for all workers to finish\n",
    "        for worker in self.__workers:\n",
    "            worker.join()\n",
    "\n",
    "    def __del__(self):\n",
    "        for worker in self.__workers:\n",
    "            worker.terminate()\n",
    "            # terminate() will make all our queues liable to become corrupted, and should not be used further\n",
    "        self.__task_queue.close()\n",
    "        self.__result_queue.close()\n",
    "        self.__status_queue.close()"
   ]
  },
  {
   "cell_type": "code",
   "execution_count": 37,
   "metadata": {},
   "outputs": [
    {
     "data": {
      "text/html": [
       "<pre style=\"white-space:pre;overflow-x:auto;line-height:normal;font-family:Menlo,'DejaVu Sans Mono',consolas,'Courier New',monospace\"><span style=\"font-style: italic\">                            Task Pipeline Status                            </span>\n",
       "┏━━━━━━━━━━━━━┳━━━━━━━━━┳━━━━━━━━━━━━━┳━━━━━━━━━━━┳━━━━━━━━━━━━━━━┳━━━━━━━━┓\n",
       "┃<span style=\"font-weight: bold\"> Total Tasks </span>┃<span style=\"font-weight: bold\"> Pending </span>┃<span style=\"font-weight: bold\"> In Progress </span>┃<span style=\"font-weight: bold\"> Completed </span>┃<span style=\"font-weight: bold\"> Results Ready </span>┃<span style=\"font-weight: bold\"> Failed </span>┃\n",
       "┡━━━━━━━━━━━━━╇━━━━━━━━━╇━━━━━━━━━━━━━╇━━━━━━━━━━━╇━━━━━━━━━━━━━━━╇━━━━━━━━┩\n",
       "│<span style=\"color: #008080; text-decoration-color: #008080\">          10 </span>│<span style=\"color: #800080; text-decoration-color: #800080\">       0 </span>│<span style=\"color: #808000; text-decoration-color: #808000\">           0 </span>│<span style=\"color: #008000; text-decoration-color: #008000\">        10 </span>│<span style=\"color: #000080; text-decoration-color: #000080\">            10 </span>│<span style=\"color: #800000; text-decoration-color: #800000\">      0 </span>│\n",
       "└─────────────┴─────────┴─────────────┴───────────┴───────────────┴────────┘\n",
       "</pre>\n"
      ],
      "text/plain": [
       "\u001b[3m                            Task Pipeline Status                            \u001b[0m\n",
       "┏━━━━━━━━━━━━━┳━━━━━━━━━┳━━━━━━━━━━━━━┳━━━━━━━━━━━┳━━━━━━━━━━━━━━━┳━━━━━━━━┓\n",
       "┃\u001b[1m \u001b[0m\u001b[1mTotal Tasks\u001b[0m\u001b[1m \u001b[0m┃\u001b[1m \u001b[0m\u001b[1mPending\u001b[0m\u001b[1m \u001b[0m┃\u001b[1m \u001b[0m\u001b[1mIn Progress\u001b[0m\u001b[1m \u001b[0m┃\u001b[1m \u001b[0m\u001b[1mCompleted\u001b[0m\u001b[1m \u001b[0m┃\u001b[1m \u001b[0m\u001b[1mResults Ready\u001b[0m\u001b[1m \u001b[0m┃\u001b[1m \u001b[0m\u001b[1mFailed\u001b[0m\u001b[1m \u001b[0m┃\n",
       "┡━━━━━━━━━━━━━╇━━━━━━━━━╇━━━━━━━━━━━━━╇━━━━━━━━━━━╇━━━━━━━━━━━━━━━╇━━━━━━━━┩\n",
       "│\u001b[36m \u001b[0m\u001b[36m         10\u001b[0m\u001b[36m \u001b[0m│\u001b[35m \u001b[0m\u001b[35m      0\u001b[0m\u001b[35m \u001b[0m│\u001b[33m \u001b[0m\u001b[33m          0\u001b[0m\u001b[33m \u001b[0m│\u001b[32m \u001b[0m\u001b[32m       10\u001b[0m\u001b[32m \u001b[0m│\u001b[34m \u001b[0m\u001b[34m           10\u001b[0m\u001b[34m \u001b[0m│\u001b[31m \u001b[0m\u001b[31m     0\u001b[0m\u001b[31m \u001b[0m│\n",
       "└─────────────┴─────────┴─────────────┴───────────┴───────────────┴────────┘\n"
      ]
     },
     "metadata": {},
     "output_type": "display_data"
    },
    {
     "data": {
      "text/html": [
       "<pre style=\"white-space:pre;overflow-x:auto;line-height:normal;font-family:Menlo,'DejaVu Sans Mono',consolas,'Courier New',monospace\"><span style=\"font-style: italic\">               Task Timing Statistics                </span>\n",
       "┏━━━━━━━━━━━━━━━┳━━━━━━━━━━━━━━━━━┳━━━━━━━━━━━━━━━━━┓\n",
       "┃<span style=\"font-weight: bold\"> Avg Task Time </span>┃<span style=\"font-weight: bold\"> Total Task Time </span>┃<span style=\"font-weight: bold\"> CPU Utilization </span>┃\n",
       "┡━━━━━━━━━━━━━━━╇━━━━━━━━━━━━━━━━━╇━━━━━━━━━━━━━━━━━┩\n",
       "│<span style=\"color: #008000; text-decoration-color: #008000\"> 5.02s         </span>│<span style=\"color: #008000; text-decoration-color: #008000\"> 50s             </span>│<span style=\"color: #808000; text-decoration-color: #808000\"> 6.40%           </span>│\n",
       "└───────────────┴─────────────────┴─────────────────┘\n",
       "</pre>\n"
      ],
      "text/plain": [
       "\u001b[3m               Task Timing Statistics                \u001b[0m\n",
       "┏━━━━━━━━━━━━━━━┳━━━━━━━━━━━━━━━━━┳━━━━━━━━━━━━━━━━━┓\n",
       "┃\u001b[1m \u001b[0m\u001b[1mAvg Task Time\u001b[0m\u001b[1m \u001b[0m┃\u001b[1m \u001b[0m\u001b[1mTotal Task Time\u001b[0m\u001b[1m \u001b[0m┃\u001b[1m \u001b[0m\u001b[1mCPU Utilization\u001b[0m\u001b[1m \u001b[0m┃\n",
       "┡━━━━━━━━━━━━━━━╇━━━━━━━━━━━━━━━━━╇━━━━━━━━━━━━━━━━━┩\n",
       "│\u001b[32m \u001b[0m\u001b[32m5.02s        \u001b[0m\u001b[32m \u001b[0m│\u001b[32m \u001b[0m\u001b[32m50s            \u001b[0m\u001b[32m \u001b[0m│\u001b[33m \u001b[0m\u001b[33m6.40%          \u001b[0m\u001b[33m \u001b[0m│\n",
       "└───────────────┴─────────────────┴─────────────────┘\n"
      ]
     },
     "metadata": {},
     "output_type": "display_data"
    },
    {
     "data": {
      "text/html": [
       "<pre style=\"white-space:pre;overflow-x:auto;line-height:normal;font-family:Menlo,'DejaVu Sans Mono',consolas,'Courier New',monospace\"><span style=\"font-style: italic\">                   Workers Status                   </span>\n",
       "┏━━━━┳━━━━━━━━━━━━┳━━━━━━━━━┳━━━━━━━━━━━━━━━━━━━━━━┓\n",
       "┃<span style=\"font-weight: bold\"> ID </span>┃<span style=\"font-weight: bold\"> Status     </span>┃<span style=\"font-weight: bold\"> Task ID </span>┃<span style=\"font-weight: bold\"> Message/Exception    </span>┃\n",
       "┡━━━━╇━━━━━━━━━━━━╇━━━━━━━━━╇━━━━━━━━━━━━━━━━━━━━━━┩\n",
       "│<span style=\"color: #008000; text-decoration-color: #008000\"> 0  </span>│<span style=\"color: #800080; text-decoration-color: #800080\"> WAITING    </span>│<span style=\"color: #008000; text-decoration-color: #008000\"> None    </span>│<span style=\"color: #808000; text-decoration-color: #808000\"> Waiting for new task </span>│\n",
       "│<span style=\"color: #008000; text-decoration-color: #008000\"> 1  </span>│<span style=\"color: #800080; text-decoration-color: #800080\"> WAITING    </span>│<span style=\"color: #008000; text-decoration-color: #008000\"> None    </span>│<span style=\"color: #808000; text-decoration-color: #808000\"> Waiting for new task </span>│\n",
       "│<span style=\"color: #008000; text-decoration-color: #008000\"> 2  </span>│<span style=\"color: #800080; text-decoration-color: #800080\"> WAITING    </span>│<span style=\"color: #008000; text-decoration-color: #008000\"> None    </span>│<span style=\"color: #808000; text-decoration-color: #808000\"> Waiting for new task </span>│\n",
       "└────┴────────────┴─────────┴──────────────────────┘\n",
       "</pre>\n"
      ],
      "text/plain": [
       "\u001b[3m                   Workers Status                   \u001b[0m\n",
       "┏━━━━┳━━━━━━━━━━━━┳━━━━━━━━━┳━━━━━━━━━━━━━━━━━━━━━━┓\n",
       "┃\u001b[1m \u001b[0m\u001b[1mID\u001b[0m\u001b[1m \u001b[0m┃\u001b[1m \u001b[0m\u001b[1mStatus    \u001b[0m\u001b[1m \u001b[0m┃\u001b[1m \u001b[0m\u001b[1mTask ID\u001b[0m\u001b[1m \u001b[0m┃\u001b[1m \u001b[0m\u001b[1mMessage/Exception   \u001b[0m\u001b[1m \u001b[0m┃\n",
       "┡━━━━╇━━━━━━━━━━━━╇━━━━━━━━━╇━━━━━━━━━━━━━━━━━━━━━━┩\n",
       "│\u001b[32m \u001b[0m\u001b[32m0 \u001b[0m\u001b[32m \u001b[0m│\u001b[35m \u001b[0m\u001b[35mWAITING   \u001b[0m\u001b[35m \u001b[0m│\u001b[32m \u001b[0m\u001b[32mNone   \u001b[0m\u001b[32m \u001b[0m│\u001b[33m \u001b[0m\u001b[33mWaiting for new task\u001b[0m\u001b[33m \u001b[0m│\n",
       "│\u001b[32m \u001b[0m\u001b[32m1 \u001b[0m\u001b[32m \u001b[0m│\u001b[35m \u001b[0m\u001b[35mWAITING   \u001b[0m\u001b[35m \u001b[0m│\u001b[32m \u001b[0m\u001b[32mNone   \u001b[0m\u001b[32m \u001b[0m│\u001b[33m \u001b[0m\u001b[33mWaiting for new task\u001b[0m\u001b[33m \u001b[0m│\n",
       "│\u001b[32m \u001b[0m\u001b[32m2 \u001b[0m\u001b[32m \u001b[0m│\u001b[35m \u001b[0m\u001b[35mWAITING   \u001b[0m\u001b[35m \u001b[0m│\u001b[32m \u001b[0m\u001b[32mNone   \u001b[0m\u001b[32m \u001b[0m│\u001b[33m \u001b[0m\u001b[33mWaiting for new task\u001b[0m\u001b[33m \u001b[0m│\n",
       "└────┴────────────┴─────────┴──────────────────────┘\n"
      ]
     },
     "metadata": {},
     "output_type": "display_data"
    },
    {
     "data": {
      "text/html": [
       "<pre style=\"white-space:pre;overflow-x:auto;line-height:normal;font-family:Menlo,'DejaVu Sans Mono',consolas,'Courier New',monospace\">KeyboardInterrupted, monitor has stopped and tasks will keep running\n",
       "</pre>\n"
      ],
      "text/plain": [
       "KeyboardInterrupted, monitor has stopped and tasks will keep running\n"
      ]
     },
     "metadata": {},
     "output_type": "display_data"
    }
   ],
   "source": [
    "backend = BackendMultiprocessing(n_workers=3)\n",
    "\n",
    "for i in range(1, 11):\n",
    "    event_data = get_event_data(i)\n",
    "    backend.add_task(level, task_id=f\"{i}\", args=(event_data,))\n",
    "backend.print_status(constantly_update=True)"
   ]
  },
  {
   "cell_type": "code",
   "execution_count": 38,
   "metadata": {},
   "outputs": [],
   "source": [
    "results = backend.get_all_results()"
   ]
  },
  {
   "cell_type": "code",
   "execution_count": null,
   "metadata": {},
   "outputs": [],
   "source": []
  },
  {
   "cell_type": "code",
   "execution_count": null,
   "metadata": {},
   "outputs": [],
   "source": []
  },
  {
   "cell_type": "code",
   "execution_count": null,
   "metadata": {},
   "outputs": [],
   "source": [
    "b"
   ]
  },
  {
   "cell_type": "code",
   "execution_count": 26,
   "metadata": {},
   "outputs": [],
   "source": [
    "backend = BackendMultiprocessing(n_workers=2)"
   ]
  },
  {
   "cell_type": "code",
   "execution_count": 222,
   "metadata": {},
   "outputs": [
    {
     "data": {
      "text/html": [
       "<pre style=\"white-space:pre;overflow-x:auto;line-height:normal;font-family:Menlo,'DejaVu Sans Mono',consolas,'Courier New',monospace\"><span style=\"font-style: italic\">                                    Workers Status                                    </span>\n",
       "┏━━━━━━━━━┳━━━━━━━━┳━━━━━━━━━━━━━┳━━━━━━━━━━━━━━━━━━━━━━━━━━━━━━━━━━━━━━━━━━━━━━━━━━━┓\n",
       "┃<span style=\"font-weight: bold\">     PID </span>┃<span style=\"font-weight: bold\"> Status </span>┃<span style=\"font-weight: bold\"> Task ID     </span>┃<span style=\"font-weight: bold\"> Message/Exception                                 </span>┃\n",
       "┡━━━━━━━━━╇━━━━━━━━╇━━━━━━━━━━━━━╇━━━━━━━━━━━━━━━━━━━━━━━━━━━━━━━━━━━━━━━━━━━━━━━━━━━┩\n",
       "│<span style=\"color: #008080; text-decoration-color: #008080\"> 3825006 </span>│<span style=\"color: #800080; text-decoration-color: #800080\"> REPORT </span>│<span style=\"color: #008000; text-decoration-color: #008000\"> matrix_comp </span>│<span style=\"color: #808000; text-decoration-color: #808000\"> Completed iteration 2/5 with current sum: 154.887 </span>│\n",
       "│<span style=\"color: #008080; text-decoration-color: #008080\"> 3825008 </span>│<span style=\"color: #800080; text-decoration-color: #800080\"> REPORT </span>│<span style=\"color: #008000; text-decoration-color: #008000\"> matrix_comp </span>│<span style=\"color: #808000; text-decoration-color: #808000\"> Completed iteration 1/5 with current sum: 196.885 </span>│\n",
       "│<span style=\"color: #008080; text-decoration-color: #008080\"> 3825010 </span>│<span style=\"color: #800080; text-decoration-color: #800080\"> REPORT </span>│<span style=\"color: #008000; text-decoration-color: #008000\"> matrix_comp </span>│<span style=\"color: #808000; text-decoration-color: #808000\"> Completed iteration 1/5 with current sum: 197.509 </span>│\n",
       "└─────────┴────────┴─────────────┴───────────────────────────────────────────────────┘\n",
       "</pre>\n"
      ],
      "text/plain": [
       "\u001b[3m                                    Workers Status                                    \u001b[0m\n",
       "┏━━━━━━━━━┳━━━━━━━━┳━━━━━━━━━━━━━┳━━━━━━━━━━━━━━━━━━━━━━━━━━━━━━━━━━━━━━━━━━━━━━━━━━━┓\n",
       "┃\u001b[1m \u001b[0m\u001b[1m    PID\u001b[0m\u001b[1m \u001b[0m┃\u001b[1m \u001b[0m\u001b[1mStatus\u001b[0m\u001b[1m \u001b[0m┃\u001b[1m \u001b[0m\u001b[1mTask ID    \u001b[0m\u001b[1m \u001b[0m┃\u001b[1m \u001b[0m\u001b[1mMessage/Exception                                \u001b[0m\u001b[1m \u001b[0m┃\n",
       "┡━━━━━━━━━╇━━━━━━━━╇━━━━━━━━━━━━━╇━━━━━━━━━━━━━━━━━━━━━━━━━━━━━━━━━━━━━━━━━━━━━━━━━━━┩\n",
       "│\u001b[36m \u001b[0m\u001b[36m3825006\u001b[0m\u001b[36m \u001b[0m│\u001b[35m \u001b[0m\u001b[35mREPORT\u001b[0m\u001b[35m \u001b[0m│\u001b[32m \u001b[0m\u001b[32mmatrix_comp\u001b[0m\u001b[32m \u001b[0m│\u001b[33m \u001b[0m\u001b[33mCompleted iteration 2/5 with current sum: 154.887\u001b[0m\u001b[33m \u001b[0m│\n",
       "│\u001b[36m \u001b[0m\u001b[36m3825008\u001b[0m\u001b[36m \u001b[0m│\u001b[35m \u001b[0m\u001b[35mREPORT\u001b[0m\u001b[35m \u001b[0m│\u001b[32m \u001b[0m\u001b[32mmatrix_comp\u001b[0m\u001b[32m \u001b[0m│\u001b[33m \u001b[0m\u001b[33mCompleted iteration 1/5 with current sum: 196.885\u001b[0m\u001b[33m \u001b[0m│\n",
       "│\u001b[36m \u001b[0m\u001b[36m3825010\u001b[0m\u001b[36m \u001b[0m│\u001b[35m \u001b[0m\u001b[35mREPORT\u001b[0m\u001b[35m \u001b[0m│\u001b[32m \u001b[0m\u001b[32mmatrix_comp\u001b[0m\u001b[32m \u001b[0m│\u001b[33m \u001b[0m\u001b[33mCompleted iteration 1/5 with current sum: 197.509\u001b[0m\u001b[33m \u001b[0m│\n",
       "└─────────┴────────┴─────────────┴───────────────────────────────────────────────────┘\n"
      ]
     },
     "metadata": {},
     "output_type": "display_data"
    },
    {
     "data": {
      "text/html": [
       "<pre style=\"white-space:pre;overflow-x:auto;line-height:normal;font-family:Menlo,'DejaVu Sans Mono',consolas,'Courier New',monospace\">KeyboardInterrupted, monitor has stopped and tasks will keep running\n",
       "</pre>\n"
      ],
      "text/plain": [
       "KeyboardInterrupted, monitor has stopped and tasks will keep running\n"
      ]
     },
     "metadata": {},
     "output_type": "display_data"
    }
   ],
   "source": [
    "import time\n",
    "import random\n",
    "import math\n",
    "from typing import List\n",
    "\n",
    "\n",
    "def complex_computation(size: int, iterations: int, status_updater=None) -> List[float]:\n",
    "    \"\"\"Performs complex matrix-like computations with progress updates\"\"\"\n",
    "    result = [random.random() for _ in range(size)]\n",
    "\n",
    "    for iter in range(iterations):\n",
    "        # Simulate complex computation\n",
    "        for i in range(size):\n",
    "            result[i] = (\n",
    "                math.sin(result[i]) * math.cos(result[i]) * math.exp(-abs(result[i]))\n",
    "            )\n",
    "            time.sleep(0.01)  # Small delay to simulate work\n",
    "\n",
    "        if status_updater:\n",
    "            status_updater.report(\n",
    "                f\"Completed iteration {iter + 1}/{iterations} with current sum: {sum(result):.3f}\"\n",
    "            )\n",
    "\n",
    "    return result\n",
    "\n",
    "\n",
    "def cascading_task(depth: int, branch_factor: int, status_updater=None) -> dict:\n",
    "    \"\"\"Simulates a tree-like computation with multiple branches\"\"\"\n",
    "    if depth <= 0:\n",
    "        time.sleep(0.5)  # Base case work\n",
    "        return {\"value\": random.random()}\n",
    "\n",
    "    result = {\"branches\": []}\n",
    "    total_branches = branch_factor**depth\n",
    "    branches_completed = 0\n",
    "\n",
    "    for i in range(branch_factor):\n",
    "        time.sleep(0.2)  # Work before branching\n",
    "        sub_result = cascading_task(depth - 1, branch_factor)\n",
    "        result[\"branches\"].append(sub_result)\n",
    "\n",
    "        branches_completed += branch_factor ** (depth - 1)\n",
    "        if status_updater:\n",
    "            progress = (branches_completed / total_branches) * 100\n",
    "            status_updater.report(\n",
    "                f\"Completed {progress:.1f}% of branches (depth {depth})\"\n",
    "            )\n",
    "\n",
    "    return result\n",
    "\n",
    "\n",
    "def probabilistic_failure_task(\n",
    "    steps: int, failure_rate: float, status_updater=None\n",
    ") -> str:\n",
    "    \"\"\"Task that might fail at any step with detailed progress reporting\"\"\"\n",
    "    for step in range(steps):\n",
    "        time.sleep(0.3)\n",
    "\n",
    "        # Chance of failure at each step\n",
    "        if random.random() < failure_rate:\n",
    "            raise ValueError(f\"Process failed at step {step + 1}/{steps}\")\n",
    "\n",
    "        # Simulate varying workloads\n",
    "        work_amount = random.randint(1, 5)\n",
    "        time.sleep(work_amount * 0.1)\n",
    "\n",
    "        if status_updater:\n",
    "            status_updater.report(\n",
    "                f\"Step {step + 1}/{steps} completed (workload: {work_amount})\"\n",
    "            )\n",
    "\n",
    "    return \"Successfully completed all steps\"\n",
    "\n",
    "\n",
    "# Add the new complex tasks to the backend\n",
    "# backend = BackendMultiprocessing(n_workers=3)\n",
    "\n",
    "# Add various complex tasks\n",
    "for _ in range(4):\n",
    "    backend.add_task(\n",
    "        complex_computation,\n",
    "        task_id=\"matrix_comp\",\n",
    "        args=(1000, 5),  # size=1000, iterations=5\n",
    "    )\n",
    "\n",
    "    backend.add_task(\n",
    "        cascading_task,\n",
    "        task_id=\"tree_comp\",\n",
    "        args=(3, 2),  # depth=3, branch_factor=2\n",
    "    )\n",
    "\n",
    "    backend.add_task(\n",
    "        probabilistic_failure_task,\n",
    "        task_id=\"risky_long_task\",\n",
    "        args=(10, 0.15),  # steps=10, failure_rate=0.15\n",
    "    )\n",
    "\n",
    "# Start monitoring\n",
    "backend.print_status(constantly_update=True)\n",
    "# backend.print_status_backend(constantly_update=True, jupyter_mode=True)"
   ]
  },
  {
   "cell_type": "code",
   "execution_count": 30,
   "metadata": {},
   "outputs": [
    {
     "data": {
      "text/html": [
       "<pre style=\"white-space:pre;overflow-x:auto;line-height:normal;font-family:Menlo,'DejaVu Sans Mono',consolas,'Courier New',monospace\"><span style=\"font-style: italic\">                  Workers Status                   </span>\n",
       "┏━━━━━━━━━┳━━━━━━━━━┳━━━━━━━━━┳━━━━━━━━━━━━━━━━━━━┓\n",
       "┃<span style=\"font-weight: bold\">     PID </span>┃<span style=\"font-weight: bold\"> Status  </span>┃<span style=\"font-weight: bold\"> Task ID </span>┃<span style=\"font-weight: bold\"> Message/Exception </span>┃\n",
       "┡━━━━━━━━━╇━━━━━━━━━╇━━━━━━━━━╇━━━━━━━━━━━━━━━━━━━┩\n",
       "│<span style=\"color: #008080; text-decoration-color: #008080\"> 3756580 </span>│<span style=\"color: #800080; text-decoration-color: #800080\"> WAITING </span>│<span style=\"color: #008000; text-decoration-color: #008000\"> None    </span>│<span style=\"color: #808000; text-decoration-color: #808000\">                   </span>│\n",
       "│<span style=\"color: #008080; text-decoration-color: #008080\"> 3756582 </span>│<span style=\"color: #800080; text-decoration-color: #800080\"> WAITING </span>│<span style=\"color: #008000; text-decoration-color: #008000\"> None    </span>│<span style=\"color: #808000; text-decoration-color: #808000\">                   </span>│\n",
       "└─────────┴─────────┴─────────┴───────────────────┘\n",
       "</pre>\n"
      ],
      "text/plain": [
       "\u001b[3m                  Workers Status                   \u001b[0m\n",
       "┏━━━━━━━━━┳━━━━━━━━━┳━━━━━━━━━┳━━━━━━━━━━━━━━━━━━━┓\n",
       "┃\u001b[1m \u001b[0m\u001b[1m    PID\u001b[0m\u001b[1m \u001b[0m┃\u001b[1m \u001b[0m\u001b[1mStatus \u001b[0m\u001b[1m \u001b[0m┃\u001b[1m \u001b[0m\u001b[1mTask ID\u001b[0m\u001b[1m \u001b[0m┃\u001b[1m \u001b[0m\u001b[1mMessage/Exception\u001b[0m\u001b[1m \u001b[0m┃\n",
       "┡━━━━━━━━━╇━━━━━━━━━╇━━━━━━━━━╇━━━━━━━━━━━━━━━━━━━┩\n",
       "│\u001b[36m \u001b[0m\u001b[36m3756580\u001b[0m\u001b[36m \u001b[0m│\u001b[35m \u001b[0m\u001b[35mWAITING\u001b[0m\u001b[35m \u001b[0m│\u001b[32m \u001b[0m\u001b[32mNone   \u001b[0m\u001b[32m \u001b[0m│\u001b[33m \u001b[0m\u001b[33m                 \u001b[0m\u001b[33m \u001b[0m│\n",
       "│\u001b[36m \u001b[0m\u001b[36m3756582\u001b[0m\u001b[36m \u001b[0m│\u001b[35m \u001b[0m\u001b[35mWAITING\u001b[0m\u001b[35m \u001b[0m│\u001b[32m \u001b[0m\u001b[32mNone   \u001b[0m\u001b[32m \u001b[0m│\u001b[33m \u001b[0m\u001b[33m                 \u001b[0m\u001b[33m \u001b[0m│\n",
       "└─────────┴─────────┴─────────┴───────────────────┘\n"
      ]
     },
     "metadata": {},
     "output_type": "display_data"
    },
    {
     "data": {
      "text/html": [
       "<pre style=\"white-space:pre;overflow-x:auto;line-height:normal;font-family:Menlo,'DejaVu Sans Mono',consolas,'Courier New',monospace\">KeyboardInterrupted, monitor has stopped and tasks will keep running\n",
       "</pre>\n"
      ],
      "text/plain": [
       "KeyboardInterrupted, monitor has stopped and tasks will keep running\n"
      ]
     },
     "metadata": {},
     "output_type": "display_data"
    }
   ],
   "source": [
    "backend.print_status(constantly_update=True)"
   ]
  },
  {
   "cell_type": "code",
   "execution_count": 23,
   "metadata": {},
   "outputs": [
    {
     "data": {
      "text/plain": [
       "3755924"
      ]
     },
     "execution_count": 23,
     "metadata": {},
     "output_type": "execute_result"
    }
   ],
   "source": [
    "os.getpid()"
   ]
  },
  {
   "cell_type": "code",
   "execution_count": 13,
   "metadata": {},
   "outputs": [],
   "source": [
    "update_display(\"1231231\", display_id=\"97c7de156320a16ea6d914a9d33a2705\")"
   ]
  },
  {
   "cell_type": "code",
   "execution_count": 4,
   "metadata": {},
   "outputs": [],
   "source": [
    "backend.stop_status_print()"
   ]
  },
  {
   "cell_type": "code",
   "execution_count": 30,
   "metadata": {},
   "outputs": [
    {
     "name": "stdout",
     "output_type": "stream",
     "text": [
      "debug: workers [<ForkProcess name='ForkProcess-7' pid=3753468 parent=3753368 stopped exitcode=0 daemon>, <ForkProcess name='ForkProcess-8' pid=3753470 parent=3753368 stopped exitcode=0 daemon>]\n"
     ]
    }
   ],
   "source": [
    "backend.print_workers()"
   ]
  },
  {
   "cell_type": "code",
   "execution_count": 4,
   "metadata": {},
   "outputs": [],
   "source": [
    "import time\n",
    "import random\n",
    "\n",
    "\n",
    "# Simple task that just returns a number after a short delay\n",
    "def simple_task(x: int):\n",
    "    time.sleep(1)\n",
    "    return x * 2\n",
    "\n",
    "\n",
    "# Task that uses the status updater to report progress\n",
    "def long_task_with_updates(iterations: int, status_updater=None):\n",
    "    for i in range(iterations):\n",
    "        time.sleep(0.5)\n",
    "        if status_updater:\n",
    "            status_updater.report(f\"Completed iteration {i+1}/{iterations}\")\n",
    "    return f\"Completed all {iterations} iterations\"\n",
    "\n",
    "\n",
    "# Task that might randomly fail\n",
    "def unreliable_task():\n",
    "    time.sleep(0.5)\n",
    "    if random.random() < 0.3:  # 30% chance of failure\n",
    "        raise ValueError(\"Random failure occurred!\")\n",
    "    return \"Task completed successfully\"\n",
    "\n",
    "\n",
    "backend.add_task(simple_task, task_id=\"simple1\", args=(5,))\n",
    "backend.add_task(simple_task, task_id=\"simple2\", args=(10,))\n",
    "backend.add_task(long_task_with_updates, task_id=\"long_task\", args=(5,))\n",
    "backend.add_task(unreliable_task, task_id=\"risky_task1\")\n",
    "backend.add_task(unreliable_task, task_id=\"risky_task2\")"
   ]
  },
  {
   "cell_type": "code",
   "execution_count": 232,
   "metadata": {},
   "outputs": [
    {
     "data": {
      "text/html": [
       "<pre style=\"white-space:pre;overflow-x:auto;line-height:normal;font-family:Menlo,'DejaVu Sans Mono',consolas,'Courier New',monospace\"><span style=\"font-style: italic\">                     Workers Status                      </span>\n",
       "┏━━━━━━━━━━┳━━━━━┳━━━━━━━━┳━━━━━━━━━┳━━━━━━━━━━━━━━━━━━━┓\n",
       "┃<span style=\"font-weight: bold\"> workerId </span>┃<span style=\"font-weight: bold\"> PID </span>┃<span style=\"font-weight: bold\"> Status </span>┃<span style=\"font-weight: bold\"> Task ID </span>┃<span style=\"font-weight: bold\"> Message/Exception </span>┃\n",
       "┡━━━━━━━━━━╇━━━━━╇━━━━━━━━╇━━━━━━━━━╇━━━━━━━━━━━━━━━━━━━┩\n",
       "└──────────┴─────┴────────┴─────────┴───────────────────┘\n",
       "</pre>\n"
      ],
      "text/plain": [
       "\u001b[3m                     Workers Status                      \u001b[0m\n",
       "┏━━━━━━━━━━┳━━━━━┳━━━━━━━━┳━━━━━━━━━┳━━━━━━━━━━━━━━━━━━━┓\n",
       "┃\u001b[1m \u001b[0m\u001b[1mworkerId\u001b[0m\u001b[1m \u001b[0m┃\u001b[1m \u001b[0m\u001b[1mPID\u001b[0m\u001b[1m \u001b[0m┃\u001b[1m \u001b[0m\u001b[1mStatus\u001b[0m\u001b[1m \u001b[0m┃\u001b[1m \u001b[0m\u001b[1mTask ID\u001b[0m\u001b[1m \u001b[0m┃\u001b[1m \u001b[0m\u001b[1mMessage/Exception\u001b[0m\u001b[1m \u001b[0m┃\n",
       "┡━━━━━━━━━━╇━━━━━╇━━━━━━━━╇━━━━━━━━━╇━━━━━━━━━━━━━━━━━━━┩\n",
       "└──────────┴─────┴────────┴─────────┴───────────────────┘\n"
      ]
     },
     "metadata": {},
     "output_type": "display_data"
    }
   ],
   "source": [
    "table = Table(title=\"Workers Status\")\n",
    "table.add_column(\"workerId\", style=\"green\")\n",
    "table.add_column(\"PID\", justify=\"right\", style=\"cyan\")\n",
    "table.add_column(\"Status\", style=\"magenta\")\n",
    "table.add_column(\"Task ID\", style=\"green\")\n",
    "table.add_column(\"Message/Exception\", style=\"yellow\")\n",
    "\n",
    "display(table)"
   ]
  },
  {
   "cell_type": "code",
   "execution_count": 5,
   "metadata": {},
   "outputs": [
    {
     "data": {
      "text/html": [
       "<pre style=\"white-space:pre;overflow-x:auto;line-height:normal;font-family:Menlo,'DejaVu Sans Mono',consolas,'Courier New',monospace\"><span style=\"font-style: italic\">                  Workers Status                   </span>\n",
       "┏━━━━━━━━━┳━━━━━━━━━┳━━━━━━━━━┳━━━━━━━━━━━━━━━━━━━┓\n",
       "┃<span style=\"font-weight: bold\">     PID </span>┃<span style=\"font-weight: bold\"> Status  </span>┃<span style=\"font-weight: bold\"> Task ID </span>┃<span style=\"font-weight: bold\"> Message/Exception </span>┃\n",
       "┡━━━━━━━━━╇━━━━━━━━━╇━━━━━━━━━╇━━━━━━━━━━━━━━━━━━━┩\n",
       "│<span style=\"color: #008080; text-decoration-color: #008080\"> 3754959 </span>│<span style=\"color: #800080; text-decoration-color: #800080\"> WAITING </span>│<span style=\"color: #008000; text-decoration-color: #008000\"> None    </span>│<span style=\"color: #808000; text-decoration-color: #808000\">                   </span>│\n",
       "│<span style=\"color: #008080; text-decoration-color: #008080\"> 3754961 </span>│<span style=\"color: #800080; text-decoration-color: #800080\"> WAITING </span>│<span style=\"color: #008000; text-decoration-color: #008000\"> None    </span>│<span style=\"color: #808000; text-decoration-color: #808000\">                   </span>│\n",
       "│<span style=\"color: #008080; text-decoration-color: #008080\"> 3754963 </span>│<span style=\"color: #800080; text-decoration-color: #800080\"> WAITING </span>│<span style=\"color: #008000; text-decoration-color: #008000\"> None    </span>│<span style=\"color: #808000; text-decoration-color: #808000\">                   </span>│\n",
       "└─────────┴─────────┴─────────┴───────────────────┘\n",
       "</pre>\n"
      ],
      "text/plain": [
       "\u001b[3m                  Workers Status                   \u001b[0m\n",
       "┏━━━━━━━━━┳━━━━━━━━━┳━━━━━━━━━┳━━━━━━━━━━━━━━━━━━━┓\n",
       "┃\u001b[1m \u001b[0m\u001b[1m    PID\u001b[0m\u001b[1m \u001b[0m┃\u001b[1m \u001b[0m\u001b[1mStatus \u001b[0m\u001b[1m \u001b[0m┃\u001b[1m \u001b[0m\u001b[1mTask ID\u001b[0m\u001b[1m \u001b[0m┃\u001b[1m \u001b[0m\u001b[1mMessage/Exception\u001b[0m\u001b[1m \u001b[0m┃\n",
       "┡━━━━━━━━━╇━━━━━━━━━╇━━━━━━━━━╇━━━━━━━━━━━━━━━━━━━┩\n",
       "│\u001b[36m \u001b[0m\u001b[36m3754959\u001b[0m\u001b[36m \u001b[0m│\u001b[35m \u001b[0m\u001b[35mWAITING\u001b[0m\u001b[35m \u001b[0m│\u001b[32m \u001b[0m\u001b[32mNone   \u001b[0m\u001b[32m \u001b[0m│\u001b[33m \u001b[0m\u001b[33m                 \u001b[0m\u001b[33m \u001b[0m│\n",
       "│\u001b[36m \u001b[0m\u001b[36m3754961\u001b[0m\u001b[36m \u001b[0m│\u001b[35m \u001b[0m\u001b[35mWAITING\u001b[0m\u001b[35m \u001b[0m│\u001b[32m \u001b[0m\u001b[32mNone   \u001b[0m\u001b[32m \u001b[0m│\u001b[33m \u001b[0m\u001b[33m                 \u001b[0m\u001b[33m \u001b[0m│\n",
       "│\u001b[36m \u001b[0m\u001b[36m3754963\u001b[0m\u001b[36m \u001b[0m│\u001b[35m \u001b[0m\u001b[35mWAITING\u001b[0m\u001b[35m \u001b[0m│\u001b[32m \u001b[0m\u001b[32mNone   \u001b[0m\u001b[32m \u001b[0m│\u001b[33m \u001b[0m\u001b[33m                 \u001b[0m\u001b[33m \u001b[0m│\n",
       "└─────────┴─────────┴─────────┴───────────────────┘\n"
      ]
     },
     "metadata": {},
     "output_type": "display_data"
    }
   ],
   "source": [
    "backend.print_status_backend(constantly_update=True, jupyter_mode=True)"
   ]
  },
  {
   "cell_type": "code",
   "execution_count": 27,
   "metadata": {},
   "outputs": [
    {
     "data": {
      "text/html": [
       "<pre style=\"white-space:pre;overflow-x:auto;line-height:normal;font-family:Menlo,'DejaVu Sans Mono',consolas,'Courier New',monospace\"><span style=\"font-style: italic\">                  Workers Status                   </span>\n",
       "┏━━━━━━━━━┳━━━━━━━━━┳━━━━━━━━━┳━━━━━━━━━━━━━━━━━━━┓\n",
       "┃<span style=\"font-weight: bold\">     PID </span>┃<span style=\"font-weight: bold\"> Status  </span>┃<span style=\"font-weight: bold\"> Task ID </span>┃<span style=\"font-weight: bold\"> Message/Exception </span>┃\n",
       "┡━━━━━━━━━╇━━━━━━━━━╇━━━━━━━━━╇━━━━━━━━━━━━━━━━━━━┩\n",
       "│<span style=\"color: #008080; text-decoration-color: #008080\"> 3753468 </span>│<span style=\"color: #800080; text-decoration-color: #800080\"> WAITING </span>│<span style=\"color: #008000; text-decoration-color: #008000\"> None    </span>│<span style=\"color: #808000; text-decoration-color: #808000\">                   </span>│\n",
       "│<span style=\"color: #008080; text-decoration-color: #008080\"> 3753470 </span>│<span style=\"color: #800080; text-decoration-color: #800080\"> WAITING </span>│<span style=\"color: #008000; text-decoration-color: #008000\"> None    </span>│<span style=\"color: #808000; text-decoration-color: #808000\">                   </span>│\n",
       "└─────────┴─────────┴─────────┴───────────────────┘\n",
       "</pre>\n"
      ],
      "text/plain": [
       "\u001b[3m                  Workers Status                   \u001b[0m\n",
       "┏━━━━━━━━━┳━━━━━━━━━┳━━━━━━━━━┳━━━━━━━━━━━━━━━━━━━┓\n",
       "┃\u001b[1m \u001b[0m\u001b[1m    PID\u001b[0m\u001b[1m \u001b[0m┃\u001b[1m \u001b[0m\u001b[1mStatus \u001b[0m\u001b[1m \u001b[0m┃\u001b[1m \u001b[0m\u001b[1mTask ID\u001b[0m\u001b[1m \u001b[0m┃\u001b[1m \u001b[0m\u001b[1mMessage/Exception\u001b[0m\u001b[1m \u001b[0m┃\n",
       "┡━━━━━━━━━╇━━━━━━━━━╇━━━━━━━━━╇━━━━━━━━━━━━━━━━━━━┩\n",
       "│\u001b[36m \u001b[0m\u001b[36m3753468\u001b[0m\u001b[36m \u001b[0m│\u001b[35m \u001b[0m\u001b[35mWAITING\u001b[0m\u001b[35m \u001b[0m│\u001b[32m \u001b[0m\u001b[32mNone   \u001b[0m\u001b[32m \u001b[0m│\u001b[33m \u001b[0m\u001b[33m                 \u001b[0m\u001b[33m \u001b[0m│\n",
       "│\u001b[36m \u001b[0m\u001b[36m3753470\u001b[0m\u001b[36m \u001b[0m│\u001b[35m \u001b[0m\u001b[35mWAITING\u001b[0m\u001b[35m \u001b[0m│\u001b[32m \u001b[0m\u001b[32mNone   \u001b[0m\u001b[32m \u001b[0m│\u001b[33m \u001b[0m\u001b[33m                 \u001b[0m\u001b[33m \u001b[0m│\n",
       "└─────────┴─────────┴─────────┴───────────────────┘\n"
      ]
     },
     "metadata": {},
     "output_type": "display_data"
    },
    {
     "ename": "KeyboardInterrupt",
     "evalue": "",
     "output_type": "error",
     "traceback": [
      "\u001b[0;31m---------------------------------------------------------------------------\u001b[0m",
      "\u001b[0;31mKeyboardInterrupt\u001b[0m                         Traceback (most recent call last)",
      "Cell \u001b[0;32mIn[27], line 1\u001b[0m\n\u001b[0;32m----> 1\u001b[0m \u001b[43mbackend\u001b[49m\u001b[38;5;241;43m.\u001b[39;49m\u001b[43mprint_status\u001b[49m\u001b[43m(\u001b[49m\u001b[43mconstantly_update\u001b[49m\u001b[38;5;241;43m=\u001b[39;49m\u001b[38;5;28;43;01mTrue\u001b[39;49;00m\u001b[43m,\u001b[49m\u001b[43m \u001b[49m\u001b[43mjupyter_mode\u001b[49m\u001b[38;5;241;43m=\u001b[39;49m\u001b[38;5;28;43;01mTrue\u001b[39;49;00m\u001b[43m)\u001b[49m\n",
      "Cell \u001b[0;32mIn[22], line 289\u001b[0m, in \u001b[0;36mBackendMultiprocessing.print_status\u001b[0;34m(self, jupyter_mode, constantly_update)\u001b[0m\n\u001b[1;32m    287\u001b[0m             console\u001b[38;5;241m.\u001b[39mclear()\n\u001b[1;32m    288\u001b[0m             console\u001b[38;5;241m.\u001b[39mprint(create_table())\n\u001b[0;32m--> 289\u001b[0m         \u001b[43mtime\u001b[49m\u001b[38;5;241;43m.\u001b[39;49m\u001b[43msleep\u001b[49m\u001b[43m(\u001b[49m\u001b[38;5;241;43m0.1\u001b[39;49m\u001b[43m)\u001b[49m\n\u001b[1;32m    290\u001b[0m \u001b[38;5;28;01melse\u001b[39;00m:\n\u001b[1;32m    291\u001b[0m     \u001b[38;5;66;03m# Print once\u001b[39;00m\n\u001b[1;32m    292\u001b[0m     \u001b[38;5;28;01mif\u001b[39;00m jupyter_mode:\n",
      "\u001b[0;31mKeyboardInterrupt\u001b[0m: "
     ]
    }
   ],
   "source": [
    "backend.print_status(constantly_update=True, jupyter_mode=True)"
   ]
  },
  {
   "cell_type": "code",
   "execution_count": 9,
   "metadata": {},
   "outputs": [
    {
     "ename": "KeyboardInterrupt",
     "evalue": "",
     "output_type": "error",
     "traceback": [
      "\u001b[0;31m---------------------------------------------------------------------------\u001b[0m",
      "\u001b[0;31mKeyboardInterrupt\u001b[0m                         Traceback (most recent call last)",
      "Cell \u001b[0;32mIn[9], line 1\u001b[0m\n\u001b[0;32m----> 1\u001b[0m \u001b[43mbackend\u001b[49m\u001b[38;5;241;43m.\u001b[39;49m\u001b[43mstop_monitor\u001b[49m\u001b[43m(\u001b[49m\u001b[43m)\u001b[49m\n",
      "Cell \u001b[0;32mIn[1], line 199\u001b[0m, in \u001b[0;36mBackendMultiprocessing.stop_monitor\u001b[0;34m(self)\u001b[0m\n\u001b[1;32m    197\u001b[0m \u001b[38;5;28;01mdef\u001b[39;00m \u001b[38;5;21mstop_monitor\u001b[39m(\u001b[38;5;28mself\u001b[39m):\n\u001b[1;32m    198\u001b[0m     \u001b[38;5;28mself\u001b[39m\u001b[38;5;241m.\u001b[39m__stop_monitor \u001b[38;5;241m=\u001b[39m \u001b[38;5;28;01mTrue\u001b[39;00m\n\u001b[0;32m--> 199\u001b[0m     \u001b[38;5;28;43mself\u001b[39;49m\u001b[38;5;241;43m.\u001b[39;49m\u001b[43m__monitor_thread\u001b[49m\u001b[38;5;241;43m.\u001b[39;49m\u001b[43mjoin\u001b[49m\u001b[43m(\u001b[49m\u001b[43m)\u001b[49m\n",
      "File \u001b[0;32m/usr/lib/python3.12/threading.py:1147\u001b[0m, in \u001b[0;36mThread.join\u001b[0;34m(self, timeout)\u001b[0m\n\u001b[1;32m   1144\u001b[0m     \u001b[38;5;28;01mraise\u001b[39;00m \u001b[38;5;167;01mRuntimeError\u001b[39;00m(\u001b[38;5;124m\"\u001b[39m\u001b[38;5;124mcannot join current thread\u001b[39m\u001b[38;5;124m\"\u001b[39m)\n\u001b[1;32m   1146\u001b[0m \u001b[38;5;28;01mif\u001b[39;00m timeout \u001b[38;5;129;01mis\u001b[39;00m \u001b[38;5;28;01mNone\u001b[39;00m:\n\u001b[0;32m-> 1147\u001b[0m     \u001b[38;5;28;43mself\u001b[39;49m\u001b[38;5;241;43m.\u001b[39;49m\u001b[43m_wait_for_tstate_lock\u001b[49m\u001b[43m(\u001b[49m\u001b[43m)\u001b[49m\n\u001b[1;32m   1148\u001b[0m \u001b[38;5;28;01melse\u001b[39;00m:\n\u001b[1;32m   1149\u001b[0m     \u001b[38;5;66;03m# the behavior of a negative timeout isn't documented, but\u001b[39;00m\n\u001b[1;32m   1150\u001b[0m     \u001b[38;5;66;03m# historically .join(timeout=x) for x<0 has acted as if timeout=0\u001b[39;00m\n\u001b[1;32m   1151\u001b[0m     \u001b[38;5;28mself\u001b[39m\u001b[38;5;241m.\u001b[39m_wait_for_tstate_lock(timeout\u001b[38;5;241m=\u001b[39m\u001b[38;5;28mmax\u001b[39m(timeout, \u001b[38;5;241m0\u001b[39m))\n",
      "File \u001b[0;32m/usr/lib/python3.12/threading.py:1167\u001b[0m, in \u001b[0;36mThread._wait_for_tstate_lock\u001b[0;34m(self, block, timeout)\u001b[0m\n\u001b[1;32m   1164\u001b[0m     \u001b[38;5;28;01mreturn\u001b[39;00m\n\u001b[1;32m   1166\u001b[0m \u001b[38;5;28;01mtry\u001b[39;00m:\n\u001b[0;32m-> 1167\u001b[0m     \u001b[38;5;28;01mif\u001b[39;00m \u001b[43mlock\u001b[49m\u001b[38;5;241;43m.\u001b[39;49m\u001b[43macquire\u001b[49m\u001b[43m(\u001b[49m\u001b[43mblock\u001b[49m\u001b[43m,\u001b[49m\u001b[43m \u001b[49m\u001b[43mtimeout\u001b[49m\u001b[43m)\u001b[49m:\n\u001b[1;32m   1168\u001b[0m         lock\u001b[38;5;241m.\u001b[39mrelease()\n\u001b[1;32m   1169\u001b[0m         \u001b[38;5;28mself\u001b[39m\u001b[38;5;241m.\u001b[39m_stop()\n",
      "\u001b[0;31mKeyboardInterrupt\u001b[0m: "
     ]
    }
   ],
   "source": [
    "backend.stop_monitor()"
   ]
  },
  {
   "cell_type": "code",
   "execution_count": 29,
   "metadata": {},
   "outputs": [],
   "source": [
    "backend.close_all_workers()"
   ]
  },
  {
   "cell_type": "code",
   "execution_count": 6,
   "metadata": {},
   "outputs": [
    {
     "ename": "KeyboardInterrupt",
     "evalue": "",
     "output_type": "error",
     "traceback": [
      "\u001b[0;31m---------------------------------------------------------------------------\u001b[0m",
      "\u001b[0;31mKeyboardInterrupt\u001b[0m                         Traceback (most recent call last)",
      "Cell \u001b[0;32mIn[6], line 1\u001b[0m\n\u001b[0;32m----> 1\u001b[0m \u001b[43mbackend\u001b[49m\u001b[38;5;241;43m.\u001b[39;49m\u001b[43mget_status_queue\u001b[49m\u001b[43m(\u001b[49m\u001b[43m)\u001b[49m\u001b[38;5;241;43m.\u001b[39;49m\u001b[43mget\u001b[49m\u001b[43m(\u001b[49m\u001b[43m)\u001b[49m\n",
      "File \u001b[0;32m/usr/lib/python3.12/multiprocessing/queues.py:103\u001b[0m, in \u001b[0;36mQueue.get\u001b[0;34m(self, block, timeout)\u001b[0m\n\u001b[1;32m    101\u001b[0m \u001b[38;5;28;01mif\u001b[39;00m block \u001b[38;5;129;01mand\u001b[39;00m timeout \u001b[38;5;129;01mis\u001b[39;00m \u001b[38;5;28;01mNone\u001b[39;00m:\n\u001b[1;32m    102\u001b[0m     \u001b[38;5;28;01mwith\u001b[39;00m \u001b[38;5;28mself\u001b[39m\u001b[38;5;241m.\u001b[39m_rlock:\n\u001b[0;32m--> 103\u001b[0m         res \u001b[38;5;241m=\u001b[39m \u001b[38;5;28;43mself\u001b[39;49m\u001b[38;5;241;43m.\u001b[39;49m\u001b[43m_recv_bytes\u001b[49m\u001b[43m(\u001b[49m\u001b[43m)\u001b[49m\n\u001b[1;32m    104\u001b[0m     \u001b[38;5;28mself\u001b[39m\u001b[38;5;241m.\u001b[39m_sem\u001b[38;5;241m.\u001b[39mrelease()\n\u001b[1;32m    105\u001b[0m \u001b[38;5;28;01melse\u001b[39;00m:\n",
      "File \u001b[0;32m/usr/lib/python3.12/multiprocessing/connection.py:216\u001b[0m, in \u001b[0;36m_ConnectionBase.recv_bytes\u001b[0;34m(self, maxlength)\u001b[0m\n\u001b[1;32m    214\u001b[0m \u001b[38;5;28;01mif\u001b[39;00m maxlength \u001b[38;5;129;01mis\u001b[39;00m \u001b[38;5;129;01mnot\u001b[39;00m \u001b[38;5;28;01mNone\u001b[39;00m \u001b[38;5;129;01mand\u001b[39;00m maxlength \u001b[38;5;241m<\u001b[39m \u001b[38;5;241m0\u001b[39m:\n\u001b[1;32m    215\u001b[0m     \u001b[38;5;28;01mraise\u001b[39;00m \u001b[38;5;167;01mValueError\u001b[39;00m(\u001b[38;5;124m\"\u001b[39m\u001b[38;5;124mnegative maxlength\u001b[39m\u001b[38;5;124m\"\u001b[39m)\n\u001b[0;32m--> 216\u001b[0m buf \u001b[38;5;241m=\u001b[39m \u001b[38;5;28;43mself\u001b[39;49m\u001b[38;5;241;43m.\u001b[39;49m\u001b[43m_recv_bytes\u001b[49m\u001b[43m(\u001b[49m\u001b[43mmaxlength\u001b[49m\u001b[43m)\u001b[49m\n\u001b[1;32m    217\u001b[0m \u001b[38;5;28;01mif\u001b[39;00m buf \u001b[38;5;129;01mis\u001b[39;00m \u001b[38;5;28;01mNone\u001b[39;00m:\n\u001b[1;32m    218\u001b[0m     \u001b[38;5;28mself\u001b[39m\u001b[38;5;241m.\u001b[39m_bad_message_length()\n",
      "File \u001b[0;32m/usr/lib/python3.12/multiprocessing/connection.py:430\u001b[0m, in \u001b[0;36mConnection._recv_bytes\u001b[0;34m(self, maxsize)\u001b[0m\n\u001b[1;32m    429\u001b[0m \u001b[38;5;28;01mdef\u001b[39;00m \u001b[38;5;21m_recv_bytes\u001b[39m(\u001b[38;5;28mself\u001b[39m, maxsize\u001b[38;5;241m=\u001b[39m\u001b[38;5;28;01mNone\u001b[39;00m):\n\u001b[0;32m--> 430\u001b[0m     buf \u001b[38;5;241m=\u001b[39m \u001b[38;5;28;43mself\u001b[39;49m\u001b[38;5;241;43m.\u001b[39;49m\u001b[43m_recv\u001b[49m\u001b[43m(\u001b[49m\u001b[38;5;241;43m4\u001b[39;49m\u001b[43m)\u001b[49m\n\u001b[1;32m    431\u001b[0m     size, \u001b[38;5;241m=\u001b[39m struct\u001b[38;5;241m.\u001b[39munpack(\u001b[38;5;124m\"\u001b[39m\u001b[38;5;124m!i\u001b[39m\u001b[38;5;124m\"\u001b[39m, buf\u001b[38;5;241m.\u001b[39mgetvalue())\n\u001b[1;32m    432\u001b[0m     \u001b[38;5;28;01mif\u001b[39;00m size \u001b[38;5;241m==\u001b[39m \u001b[38;5;241m-\u001b[39m\u001b[38;5;241m1\u001b[39m:\n",
      "File \u001b[0;32m/usr/lib/python3.12/multiprocessing/connection.py:395\u001b[0m, in \u001b[0;36mConnection._recv\u001b[0;34m(self, size, read)\u001b[0m\n\u001b[1;32m    393\u001b[0m remaining \u001b[38;5;241m=\u001b[39m size\n\u001b[1;32m    394\u001b[0m \u001b[38;5;28;01mwhile\u001b[39;00m remaining \u001b[38;5;241m>\u001b[39m \u001b[38;5;241m0\u001b[39m:\n\u001b[0;32m--> 395\u001b[0m     chunk \u001b[38;5;241m=\u001b[39m \u001b[43mread\u001b[49m\u001b[43m(\u001b[49m\u001b[43mhandle\u001b[49m\u001b[43m,\u001b[49m\u001b[43m \u001b[49m\u001b[43mremaining\u001b[49m\u001b[43m)\u001b[49m\n\u001b[1;32m    396\u001b[0m     n \u001b[38;5;241m=\u001b[39m \u001b[38;5;28mlen\u001b[39m(chunk)\n\u001b[1;32m    397\u001b[0m     \u001b[38;5;28;01mif\u001b[39;00m n \u001b[38;5;241m==\u001b[39m \u001b[38;5;241m0\u001b[39m:\n",
      "\u001b[0;31mKeyboardInterrupt\u001b[0m: "
     ]
    }
   ],
   "source": [
    "backend.get_status_queue().get()"
   ]
  },
  {
   "cell_type": "code",
   "execution_count": 12,
   "metadata": {},
   "outputs": [
    {
     "data": {
      "text/html": [
       "<pre style=\"white-space:pre;overflow-x:auto;line-height:normal;font-family:Menlo,'DejaVu Sans Mono',consolas,'Courier New',monospace\"><span style=\"font-style: italic\">                  Workers Status                   </span>\n",
       "┏━━━━━━━━━┳━━━━━━━━━┳━━━━━━━━━┳━━━━━━━━━━━━━━━━━━━┓\n",
       "┃<span style=\"font-weight: bold\">     PID </span>┃<span style=\"font-weight: bold\"> Status  </span>┃<span style=\"font-weight: bold\"> Task ID </span>┃<span style=\"font-weight: bold\"> Message/Exception </span>┃\n",
       "┡━━━━━━━━━╇━━━━━━━━━╇━━━━━━━━━╇━━━━━━━━━━━━━━━━━━━┩\n",
       "│<span style=\"color: #008080; text-decoration-color: #008080\"> 3752523 </span>│<span style=\"color: #800080; text-decoration-color: #800080\"> WAITING </span>│<span style=\"color: #008000; text-decoration-color: #008000\"> None    </span>│<span style=\"color: #808000; text-decoration-color: #808000\">                   </span>│\n",
       "│<span style=\"color: #008080; text-decoration-color: #008080\"> 3752525 </span>│<span style=\"color: #800080; text-decoration-color: #800080\"> WAITING </span>│<span style=\"color: #008000; text-decoration-color: #008000\"> None    </span>│<span style=\"color: #808000; text-decoration-color: #808000\">                   </span>│\n",
       "└─────────┴─────────┴─────────┴───────────────────┘\n",
       "</pre>\n"
      ],
      "text/plain": [
       "\u001b[3m                  Workers Status                   \u001b[0m\n",
       "┏━━━━━━━━━┳━━━━━━━━━┳━━━━━━━━━┳━━━━━━━━━━━━━━━━━━━┓\n",
       "┃\u001b[1m \u001b[0m\u001b[1m    PID\u001b[0m\u001b[1m \u001b[0m┃\u001b[1m \u001b[0m\u001b[1mStatus \u001b[0m\u001b[1m \u001b[0m┃\u001b[1m \u001b[0m\u001b[1mTask ID\u001b[0m\u001b[1m \u001b[0m┃\u001b[1m \u001b[0m\u001b[1mMessage/Exception\u001b[0m\u001b[1m \u001b[0m┃\n",
       "┡━━━━━━━━━╇━━━━━━━━━╇━━━━━━━━━╇━━━━━━━━━━━━━━━━━━━┩\n",
       "│\u001b[36m \u001b[0m\u001b[36m3752523\u001b[0m\u001b[36m \u001b[0m│\u001b[35m \u001b[0m\u001b[35mWAITING\u001b[0m\u001b[35m \u001b[0m│\u001b[32m \u001b[0m\u001b[32mNone   \u001b[0m\u001b[32m \u001b[0m│\u001b[33m \u001b[0m\u001b[33m                 \u001b[0m\u001b[33m \u001b[0m│\n",
       "│\u001b[36m \u001b[0m\u001b[36m3752525\u001b[0m\u001b[36m \u001b[0m│\u001b[35m \u001b[0m\u001b[35mWAITING\u001b[0m\u001b[35m \u001b[0m│\u001b[32m \u001b[0m\u001b[32mNone   \u001b[0m\u001b[32m \u001b[0m│\u001b[33m \u001b[0m\u001b[33m                 \u001b[0m\u001b[33m \u001b[0m│\n",
       "└─────────┴─────────┴─────────┴───────────────────┘\n"
      ]
     },
     "metadata": {},
     "output_type": "display_data"
    }
   ],
   "source": [
    "backend.print_status(constantly_update=False, jupyter_mode=True)"
   ]
  },
  {
   "cell_type": "code",
   "execution_count": 24,
   "metadata": {},
   "outputs": [
    {
     "name": "stdout",
     "output_type": "stream",
     "text": [
      "\n",
      "Results: []\n"
     ]
    }
   ],
   "source": [
    "# Get all results\n",
    "results = backend.get_all_results()\n",
    "print(\"\\nResults:\", results)"
   ]
  },
  {
   "cell_type": "code",
   "execution_count": 25,
   "metadata": {},
   "outputs": [],
   "source": [
    "# Clean up\n",
    "backend.close_all_workers()"
   ]
  },
  {
   "cell_type": "code",
   "execution_count": 5,
   "metadata": {},
   "outputs": [
    {
     "name": "stdout",
     "output_type": "stream",
     "text": [
      "Worker class can be pickled successfully\n"
     ]
    }
   ],
   "source": [
    "# Add this test code after the Worker class definition\n",
    "def test_worker_pickling():\n",
    "    import pickle\n",
    "\n",
    "    # Create dummy queues for testing\n",
    "    task_queue = mp.Queue()\n",
    "    result_queue = mp.Queue()\n",
    "    status_queue = mp.Queue()\n",
    "\n",
    "    try:\n",
    "        # Try to pickle the Worker class (not instance)\n",
    "        pickled_class = pickle.dumps(Worker)\n",
    "        print(\"Worker class can be pickled successfully\")\n",
    "\n",
    "        # Note: We can't directly test pickling a Worker instance\n",
    "        # because the __init__ immediately starts running the worker\n",
    "\n",
    "    except Exception as e:\n",
    "        print(f\"Worker class pickling failed: {str(e)}\")\n",
    "\n",
    "\n",
    "# Run the test\n",
    "test_worker_pickling()"
   ]
  },
  {
   "cell_type": "code",
   "execution_count": null,
   "metadata": {},
   "outputs": [],
   "source": []
  },
  {
   "cell_type": "code",
   "execution_count": null,
   "metadata": {},
   "outputs": [],
   "source": []
  },
  {
   "cell_type": "code",
   "execution_count": 2,
   "metadata": {},
   "outputs": [
    {
     "data": {
      "text/html": [
       "<pre style=\"white-space:pre;overflow-x:auto;line-height:normal;font-family:Menlo,'DejaVu Sans Mono',consolas,'Courier New',monospace\">a lot of text <span style=\"color: #008080; text-decoration-color: #008080; font-weight: bold\">584</span>\n",
       "</pre>\n"
      ],
      "text/plain": [
       "a lot of text \u001b[1;36m584\u001b[0m\n"
      ]
     },
     "metadata": {},
     "output_type": "display_data"
    },
    {
     "ename": "KeyboardInterrupt",
     "evalue": "",
     "output_type": "error",
     "traceback": [
      "\u001b[0;31m---------------------------------------------------------------------------\u001b[0m",
      "\u001b[0;31mKeyboardInterrupt\u001b[0m                         Traceback (most recent call last)",
      "Cell \u001b[0;32mIn[2], line 9\u001b[0m\n\u001b[1;32m      7\u001b[0m clear_output(wait\u001b[38;5;241m=\u001b[39m\u001b[38;5;28;01mTrue\u001b[39;00m)\n\u001b[1;32m      8\u001b[0m rprint(\u001b[38;5;124mf\u001b[39m\u001b[38;5;124m\"\u001b[39m\u001b[38;5;124ma lot of text \u001b[39m\u001b[38;5;132;01m{\u001b[39;00mcount\u001b[38;5;132;01m}\u001b[39;00m\u001b[38;5;124m\"\u001b[39m)\n\u001b[0;32m----> 9\u001b[0m \u001b[43mtime\u001b[49m\u001b[38;5;241;43m.\u001b[39;49m\u001b[43msleep\u001b[49m\u001b[43m(\u001b[49m\u001b[38;5;241;43m0.01\u001b[39;49m\u001b[43m)\u001b[49m\n\u001b[1;32m     10\u001b[0m count \u001b[38;5;241m+\u001b[39m\u001b[38;5;241m=\u001b[39m \u001b[38;5;241m1\u001b[39m\n",
      "\u001b[0;31mKeyboardInterrupt\u001b[0m: "
     ]
    }
   ],
   "source": [
    "from rich import print as rprint\n",
    "from IPython.display import clear_output\n",
    "import time\n",
    "\n",
    "count = 0\n",
    "while True:\n",
    "    clear_output(wait=True)\n",
    "    rprint(f\"a lot of text {count}\")\n",
    "    time.sleep(0.01)\n",
    "    count += 1"
   ]
  },
  {
   "cell_type": "code",
   "execution_count": 12,
   "metadata": {},
   "outputs": [
    {
     "data": {
      "text/plain": [
       "'a lot of text 29'"
      ]
     },
     "metadata": {},
     "output_type": "display_data"
    },
    {
     "ename": "KeyboardInterrupt",
     "evalue": "",
     "output_type": "error",
     "traceback": [
      "\u001b[0;31m---------------------------------------------------------------------------\u001b[0m",
      "\u001b[0;31mKeyboardInterrupt\u001b[0m                         Traceback (most recent call last)",
      "Cell \u001b[0;32mIn[12], line 7\u001b[0m\n\u001b[1;32m      5\u001b[0m count \u001b[38;5;241m=\u001b[39m \u001b[38;5;241m0\u001b[39m\n\u001b[1;32m      6\u001b[0m \u001b[38;5;28;01mwhile\u001b[39;00m \u001b[38;5;28;01mTrue\u001b[39;00m:\n\u001b[0;32m----> 7\u001b[0m     \u001b[43mtime\u001b[49m\u001b[38;5;241;43m.\u001b[39;49m\u001b[43msleep\u001b[49m\u001b[43m(\u001b[49m\u001b[38;5;241;43m0.1\u001b[39;49m\u001b[43m)\u001b[49m\n\u001b[1;32m      8\u001b[0m     update_display(\u001b[38;5;124mf\u001b[39m\u001b[38;5;124m\"\u001b[39m\u001b[38;5;124ma lot of text \u001b[39m\u001b[38;5;132;01m{\u001b[39;00mcount\u001b[38;5;132;01m}\u001b[39;00m\u001b[38;5;124m\"\u001b[39m, display_id\u001b[38;5;241m=\u001b[39moutput\u001b[38;5;241m.\u001b[39mdisplay_id)\n\u001b[1;32m      9\u001b[0m     count \u001b[38;5;241m+\u001b[39m\u001b[38;5;241m=\u001b[39m \u001b[38;5;241m1\u001b[39m\n",
      "\u001b[0;31mKeyboardInterrupt\u001b[0m: "
     ]
    }
   ],
   "source": [
    "from IPython.display import display, update_display\n",
    "import sys\n",
    "\n",
    "output = display(\"\", display_id=True)\n",
    "count = 0\n",
    "while True:\n",
    "    time.sleep(0.1)\n",
    "    update_display(f\"a lot of text {count}\", display_id=output.display_id)\n",
    "    count += 1"
   ]
  },
  {
   "cell_type": "code",
   "execution_count": 14,
   "metadata": {},
   "outputs": [
    {
     "data": {
      "text/html": [
       "<pre style=\"white-space:pre;overflow-x:auto;line-height:normal;font-family:Menlo,'DejaVu Sans Mono',consolas,'Courier New',monospace\"></pre>\n"
      ],
      "text/plain": []
     },
     "metadata": {},
     "output_type": "display_data"
    },
    {
     "ename": "KeyboardInterrupt",
     "evalue": "",
     "output_type": "error",
     "traceback": [
      "\u001b[0;31m---------------------------------------------------------------------------\u001b[0m",
      "\u001b[0;31mKeyboardInterrupt\u001b[0m                         Traceback (most recent call last)",
      "Cell \u001b[0;32mIn[14], line 9\u001b[0m\n\u001b[1;32m      7\u001b[0m \u001b[38;5;28;01mwith\u001b[39;00m Live(auto_refresh\u001b[38;5;241m=\u001b[39m\u001b[38;5;28;01mFalse\u001b[39;00m) \u001b[38;5;28;01mas\u001b[39;00m live:\n\u001b[1;32m      8\u001b[0m     \u001b[38;5;28;01mwhile\u001b[39;00m \u001b[38;5;28;01mTrue\u001b[39;00m:\n\u001b[0;32m----> 9\u001b[0m         \u001b[43mtime\u001b[49m\u001b[38;5;241;43m.\u001b[39;49m\u001b[43msleep\u001b[49m\u001b[43m(\u001b[49m\u001b[38;5;241;43m0.1\u001b[39;49m\u001b[43m)\u001b[49m\n\u001b[1;32m     10\u001b[0m         live\u001b[38;5;241m.\u001b[39mupdate(\u001b[38;5;124mf\u001b[39m\u001b[38;5;124m\"\u001b[39m\u001b[38;5;124ma lot of text \u001b[39m\u001b[38;5;132;01m{\u001b[39;00mcount\u001b[38;5;132;01m}\u001b[39;00m\u001b[38;5;124m\"\u001b[39m)\n\u001b[1;32m     11\u001b[0m         count\u001b[38;5;241m+\u001b[39m\u001b[38;5;241m=\u001b[39m\u001b[38;5;241m1\u001b[39m\n",
      "\u001b[0;31mKeyboardInterrupt\u001b[0m: "
     ]
    }
   ],
   "source": [
    "from rich.live import Live\n",
    "from rich import print\n",
    "import time\n",
    "\n",
    "\n",
    "count = 0\n",
    "with Live(auto_refresh=False) as live:\n",
    "    while True:\n",
    "        time.sleep(0.1)\n",
    "        live.update(f\"a lot of text {count}\")\n",
    "        count += 1"
   ]
  },
  {
   "cell_type": "code",
   "execution_count": 5,
   "metadata": {},
   "outputs": [
    {
     "data": {
      "application/vnd.jupyter.widget-view+json": {
       "model_id": "feb8f55f3c7c468fa7aaaf8e7e4f8d0b",
       "version_major": 2,
       "version_minor": 0
      },
      "text/plain": [
       "Output()"
      ]
     },
     "metadata": {},
     "output_type": "display_data"
    },
    {
     "data": {
      "text/html": [
       "<pre style=\"white-space:pre;overflow-x:auto;line-height:normal;font-family:Menlo,'DejaVu Sans Mono',consolas,'Courier New',monospace\"></pre>\n"
      ],
      "text/plain": []
     },
     "metadata": {},
     "output_type": "display_data"
    },
    {
     "ename": "KeyboardInterrupt",
     "evalue": "",
     "output_type": "error",
     "traceback": [
      "\u001b[0;31m---------------------------------------------------------------------------\u001b[0m",
      "\u001b[0;31mKeyboardInterrupt\u001b[0m                         Traceback (most recent call last)",
      "Cell \u001b[0;32mIn[5], line 8\u001b[0m\n\u001b[1;32m      6\u001b[0m \u001b[38;5;28;01mwith\u001b[39;00m Live(auto_refresh\u001b[38;5;241m=\u001b[39m\u001b[38;5;28;01mTrue\u001b[39;00m) \u001b[38;5;28;01mas\u001b[39;00m live:\n\u001b[1;32m      7\u001b[0m     \u001b[38;5;28;01mwhile\u001b[39;00m \u001b[38;5;28;01mTrue\u001b[39;00m:\n\u001b[0;32m----> 8\u001b[0m         \u001b[43mtime\u001b[49m\u001b[38;5;241;43m.\u001b[39;49m\u001b[43msleep\u001b[49m\u001b[43m(\u001b[49m\u001b[38;5;241;43m0.1\u001b[39;49m\u001b[43m)\u001b[49m\n\u001b[1;32m      9\u001b[0m         live\u001b[38;5;241m.\u001b[39mupdate(\u001b[38;5;124mf\u001b[39m\u001b[38;5;124m\"\u001b[39m\u001b[38;5;124ma lot of text \u001b[39m\u001b[38;5;132;01m{\u001b[39;00mcount\u001b[38;5;132;01m}\u001b[39;00m\u001b[38;5;124m\"\u001b[39m)\n\u001b[1;32m     10\u001b[0m         live\u001b[38;5;241m.\u001b[39mrefresh()\n",
      "\u001b[0;31mKeyboardInterrupt\u001b[0m: "
     ]
    }
   ],
   "source": [
    "from rich.live import Live\n",
    "from rich import print\n",
    "import time\n",
    "\n",
    "count = 0\n",
    "with Live(auto_refresh=True) as live:\n",
    "    while True:\n",
    "        time.sleep(0.1)\n",
    "        live.update(f\"a lot of text {count}\")\n",
    "        live.refresh()\n",
    "        count += 1"
   ]
  },
  {
   "cell_type": "code",
   "execution_count": 2,
   "metadata": {},
   "outputs": [
    {
     "data": {
      "text/html": [
       "<pre style=\"white-space:pre;overflow-x:auto;line-height:normal;font-family:Menlo,'DejaVu Sans Mono',consolas,'Courier New',monospace\">╭──────────┬──────────┬──────────╮\n",
       "│<span style=\"font-weight: bold\">    ID    </span>│<span style=\"font-weight: bold\">  Value   </span>│<span style=\"font-weight: bold\">  Status  </span>│\n",
       "├──────────┼──────────┼──────────┤\n",
       "│    0     │    84    │ correct  │\n",
       "│    1     │    53    │ incorre… │\n",
       "│    2     │    3     │ correct  │\n",
       "│    3     │    39    │ incorre… │\n",
       "│    4     │    11    │ incorre… │\n",
       "╰──────────┴──────────┴──────────╯\n",
       "</pre>\n"
      ],
      "text/plain": [
       "╭──────────┬──────────┬──────────╮\n",
       "│\u001b[1m \u001b[0m\u001b[1m   ID   \u001b[0m\u001b[1m \u001b[0m│\u001b[1m \u001b[0m\u001b[1m Value  \u001b[0m\u001b[1m \u001b[0m│\u001b[1m \u001b[0m\u001b[1m Status \u001b[0m\u001b[1m \u001b[0m│\n",
       "├──────────┼──────────┼──────────┤\n",
       "│    0     │    84    │ correct  │\n",
       "│    1     │    53    │ incorre… │\n",
       "│    2     │    3     │ correct  │\n",
       "│    3     │    39    │ incorre… │\n",
       "│    4     │    11    │ incorre… │\n",
       "╰──────────┴──────────┴──────────╯\n"
      ]
     },
     "metadata": {},
     "output_type": "display_data"
    },
    {
     "ename": "KeyboardInterrupt",
     "evalue": "",
     "output_type": "error",
     "traceback": [
      "\u001b[0;31m---------------------------------------------------------------------------\u001b[0m",
      "\u001b[0;31mKeyboardInterrupt\u001b[0m                         Traceback (most recent call last)",
      "Cell \u001b[0;32mIn[2], line 24\u001b[0m\n\u001b[1;32m     22\u001b[0m \u001b[38;5;28;01mwhile\u001b[39;00m \u001b[38;5;28;01mTrue\u001b[39;00m:\n\u001b[1;32m     23\u001b[0m     update_display(generate_table(), display_id\u001b[38;5;241m=\u001b[39moutput\u001b[38;5;241m.\u001b[39mdisplay_id)\n\u001b[0;32m---> 24\u001b[0m     \u001b[43msleep\u001b[49m\u001b[43m(\u001b[49m\u001b[38;5;241;43m0.1\u001b[39;49m\u001b[43m)\u001b[49m\n",
      "\u001b[0;31mKeyboardInterrupt\u001b[0m: "
     ]
    }
   ],
   "source": [
    "from rich.table import Table\n",
    "from time import sleep\n",
    "from rich import box\n",
    "import random\n",
    "from IPython.display import display, update_display\n",
    "\n",
    "\n",
    "def generate_table():\n",
    "    table = Table(box=box.ROUNDED)\n",
    "    table.add_column(\"ID\", justify=\"center\", width=8)\n",
    "    table.add_column(\"Value\", justify=\"center\", width=8)\n",
    "    table.add_column(\"Status\", justify=\"center\", width=8)\n",
    "\n",
    "    for i in range(5):\n",
    "        table.add_row(\n",
    "            str(i),\n",
    "            str(random.randint(0, 100)),\n",
    "            \"correct\" if random.random() > 0.5 else \"incorrect\",\n",
    "        )\n",
    "    return table\n",
    "\n",
    "\n",
    "output = display(\"\", display_id=True)\n",
    "while True:\n",
    "    update_display(generate_table(), display_id=output.display_id)\n",
    "    sleep(0.1)"
   ]
  },
  {
   "cell_type": "code",
   "execution_count": 9,
   "metadata": {},
   "outputs": [
    {
     "data": {
      "application/vnd.jupyter.widget-view+json": {
       "model_id": "611f97c41d0b44c0a54f0c7ec347f87c",
       "version_major": 2,
       "version_minor": 0
      },
      "text/plain": [
       "Output()"
      ]
     },
     "metadata": {},
     "output_type": "display_data"
    },
    {
     "data": {
      "text/html": [
       "<pre style=\"white-space:pre;overflow-x:auto;line-height:normal;font-family:Menlo,'DejaVu Sans Mono',consolas,'Courier New',monospace\"></pre>\n"
      ],
      "text/plain": []
     },
     "metadata": {},
     "output_type": "display_data"
    }
   ],
   "source": [
    "from rich.live import Live\n",
    "from rich import print\n",
    "import time\n",
    "\n",
    "# count = 0\n",
    "# with Live(auto_refresh=True) as live:\n",
    "#     while True:\n",
    "#         time.sleep(0.1)\n",
    "#         live.update(f\"a lot of text {count}\")\n",
    "#         live.refresh()\n",
    "#         count += 1\n",
    "\n",
    "count = 0\n",
    "with Live(auto_refresh=True) as live:\n",
    "    time.sleep(0.1)\n",
    "    live.update(f\"a lot of text {count}\")\n",
    "    live.refresh()\n",
    "    count += 1"
   ]
  },
  {
   "cell_type": "code",
   "execution_count": 7,
   "metadata": {},
   "outputs": [
    {
     "data": {
      "text/html": [
       "<style type=\"text/css\">\n",
       "#T_87d24 th {\n",
       "  text-align: center;\n",
       "}\n",
       "#T_87d24_row0_col0, #T_87d24_row0_col1, #T_87d24_row0_col2, #T_87d24_row1_col0, #T_87d24_row1_col1, #T_87d24_row1_col2, #T_87d24_row2_col0, #T_87d24_row2_col1, #T_87d24_row2_col2, #T_87d24_row3_col0, #T_87d24_row3_col1, #T_87d24_row3_col2, #T_87d24_row4_col0, #T_87d24_row4_col1, #T_87d24_row4_col2 {\n",
       "  text-align: center;\n",
       "}\n",
       "</style>\n",
       "<table id=\"T_87d24\">\n",
       "  <thead>\n",
       "    <tr>\n",
       "      <th class=\"blank level0\" >&nbsp;</th>\n",
       "      <th id=\"T_87d24_level0_col0\" class=\"col_heading level0 col0\" >ID</th>\n",
       "      <th id=\"T_87d24_level0_col1\" class=\"col_heading level0 col1\" >Value</th>\n",
       "      <th id=\"T_87d24_level0_col2\" class=\"col_heading level0 col2\" >Status</th>\n",
       "    </tr>\n",
       "  </thead>\n",
       "  <tbody>\n",
       "    <tr>\n",
       "      <th id=\"T_87d24_level0_row0\" class=\"row_heading level0 row0\" >0</th>\n",
       "      <td id=\"T_87d24_row0_col0\" class=\"data row0 col0\" >0</td>\n",
       "      <td id=\"T_87d24_row0_col1\" class=\"data row0 col1\" >69</td>\n",
       "      <td id=\"T_87d24_row0_col2\" class=\"data row0 col2\" >✅</td>\n",
       "    </tr>\n",
       "    <tr>\n",
       "      <th id=\"T_87d24_level0_row1\" class=\"row_heading level0 row1\" >1</th>\n",
       "      <td id=\"T_87d24_row1_col0\" class=\"data row1 col0\" >1</td>\n",
       "      <td id=\"T_87d24_row1_col1\" class=\"data row1 col1\" >32</td>\n",
       "      <td id=\"T_87d24_row1_col2\" class=\"data row1 col2\" >❌</td>\n",
       "    </tr>\n",
       "    <tr>\n",
       "      <th id=\"T_87d24_level0_row2\" class=\"row_heading level0 row2\" >2</th>\n",
       "      <td id=\"T_87d24_row2_col0\" class=\"data row2 col0\" >2</td>\n",
       "      <td id=\"T_87d24_row2_col1\" class=\"data row2 col1\" >17</td>\n",
       "      <td id=\"T_87d24_row2_col2\" class=\"data row2 col2\" >❌</td>\n",
       "    </tr>\n",
       "    <tr>\n",
       "      <th id=\"T_87d24_level0_row3\" class=\"row_heading level0 row3\" >3</th>\n",
       "      <td id=\"T_87d24_row3_col0\" class=\"data row3 col0\" >3</td>\n",
       "      <td id=\"T_87d24_row3_col1\" class=\"data row3 col1\" >34</td>\n",
       "      <td id=\"T_87d24_row3_col2\" class=\"data row3 col2\" >✅</td>\n",
       "    </tr>\n",
       "    <tr>\n",
       "      <th id=\"T_87d24_level0_row4\" class=\"row_heading level0 row4\" >4</th>\n",
       "      <td id=\"T_87d24_row4_col0\" class=\"data row4 col0\" >4</td>\n",
       "      <td id=\"T_87d24_row4_col1\" class=\"data row4 col1\" >55</td>\n",
       "      <td id=\"T_87d24_row4_col2\" class=\"data row4 col2\" >❌</td>\n",
       "    </tr>\n",
       "  </tbody>\n",
       "</table>\n"
      ],
      "text/plain": [
       "<pandas.io.formats.style.Styler at 0x7176e4a95c70>"
      ]
     },
     "metadata": {},
     "output_type": "display_data"
    },
    {
     "ename": "KeyboardInterrupt",
     "evalue": "",
     "output_type": "error",
     "traceback": [
      "\u001b[0;31m---------------------------------------------------------------------------\u001b[0m",
      "\u001b[0;31mKeyboardInterrupt\u001b[0m                         Traceback (most recent call last)",
      "Cell \u001b[0;32mIn[7], line 24\u001b[0m\n\u001b[1;32m     22\u001b[0m clear_output(wait\u001b[38;5;241m=\u001b[39m\u001b[38;5;28;01mTrue\u001b[39;00m)\n\u001b[1;32m     23\u001b[0m display(create_table())\n\u001b[0;32m---> 24\u001b[0m \u001b[43mtime\u001b[49m\u001b[38;5;241;43m.\u001b[39;49m\u001b[43msleep\u001b[49m\u001b[43m(\u001b[49m\u001b[38;5;241;43m0.01\u001b[39;49m\u001b[43m)\u001b[49m\n",
      "\u001b[0;31mKeyboardInterrupt\u001b[0m: "
     ]
    }
   ],
   "source": [
    "import pandas as pd\n",
    "import random\n",
    "import time\n",
    "from IPython.display import display, update_display\n",
    "from IPython import get_ipython\n",
    "from IPython.display import clear_output\n",
    "\n",
    "\n",
    "def create_table():\n",
    "    data = {\n",
    "        \"ID\": range(5),\n",
    "        \"Value\": [random.randint(0, 100) for _ in range(5)],\n",
    "        \"Status\": [\"\\u2705\" if random.random() > 0.5 else \"\\u274C\" for _ in range(5)],\n",
    "    }\n",
    "    df = pd.DataFrame(data)\n",
    "    return df.style.set_properties(**{\"text-align\": \"center\"}).set_table_styles(\n",
    "        [{\"selector\": \"th\", \"props\": [(\"text-align\", \"center\")]}]\n",
    "    )\n",
    "\n",
    "\n",
    "while True:\n",
    "    clear_output(wait=True)\n",
    "    display(create_table())\n",
    "    time.sleep(0.01)"
   ]
  },
  {
   "cell_type": "code",
   "execution_count": 53,
   "metadata": {},
   "outputs": [
    {
     "data": {
      "text/plain": [
       "'131444'"
      ]
     },
     "metadata": {},
     "output_type": "display_data"
    }
   ],
   "source": [
    "output = display(\"1231231\", display_id=True)"
   ]
  },
  {
   "cell_type": "code",
   "execution_count": 54,
   "metadata": {},
   "outputs": [
    {
     "data": {
      "text/plain": [
       "'a80e2652042a6de84692042db5c87a01'"
      ]
     },
     "execution_count": 54,
     "metadata": {},
     "output_type": "execute_result"
    }
   ],
   "source": [
    "output.display_id"
   ]
  },
  {
   "cell_type": "code",
   "execution_count": 58,
   "metadata": {},
   "outputs": [],
   "source": [
    "update_display(\"131444\", display_id=\"a80e2652042a6de84692042db5c87a01\")"
   ]
  },
  {
   "cell_type": "code",
   "execution_count": null,
   "metadata": {},
   "outputs": [],
   "source": []
  },
  {
   "cell_type": "code",
   "execution_count": 131,
   "metadata": {},
   "outputs": [
    {
     "data": {
      "text/plain": [
       "0"
      ]
     },
     "execution_count": 131,
     "metadata": {},
     "output_type": "execute_result"
    }
   ],
   "source": [
    "np.random.choice(4, p=[0.4, 0.2, 0.2, 0.2])"
   ]
  }
 ],
 "metadata": {
  "kernelspec": {
   "display_name": "venv",
   "language": "python",
   "name": "python3"
  },
  "language_info": {
   "codemirror_mode": {
    "name": "ipython",
    "version": 3
   },
   "file_extension": ".py",
   "mimetype": "text/x-python",
   "name": "python",
   "nbconvert_exporter": "python",
   "pygments_lexer": "ipython3",
   "version": "3.12.3"
  }
 },
 "nbformat": 4,
 "nbformat_minor": 2
}
